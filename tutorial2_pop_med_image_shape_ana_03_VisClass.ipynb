{
 "cells": [
  {
   "cell_type": "markdown",
   "metadata": {
    "pycharm": {
     "name": "#%% md\n"
    }
   },
   "source": [
    "This part of the tutorial employs shape data of 116 distal femora that where, among others, used in\n",
    "\n",
    "[Rigid motion invariant statistical shape modeling based on discrete fundamental forms](https://doi.org/10.1016/j.media.2021.102178), F. Ambellan, S. Zachow, Christoph von Tycowicz, Medical Image Analysis (2021). [PDF](https://arxiv.org/pdf/2111.06850.pdf)\n",
    "\n",
    "The respective segmentation masks are publicly available at [pubdata.zib.de](https://pubdata.zib.de).\n",
    "\n",
    "To speed up things a little bit, this part of the tutorial starts right after the model creation step, i.e. we have already constructed a shape model $\\left(\\mu, \\{\\vartheta_k\\}_1^d \\right),$ comprising mean $\\mu$\n",
    "and principal directions $\\{\\vartheta_k\\}_1^d$, s.t.\n",
    "\n",
    "\\begin{equation}\n",
    "s_i = \\text{Exp}_\\mu\\bigg(\\sum_{k=1}^{n-1} \\underbrace{g_\\mu(\\text{Log}_\\mu(s_i), \\vartheta_k)}_{\\alpha_{i}^k}\\vartheta_k\\bigg),\n",
    "\\end{equation}\n",
    "\n",
    "holds for all input shapes $s_i$. In the following we want to visualize the principal weights $\\{\\alpha_i^k\\}$ in different ways and use them to perform a classification experiment on osteoarthritis."
   ]
  },
  {
   "cell_type": "markdown",
   "metadata": {},
   "source": [
    "# Visualization of Principal Weights $\\{\\alpha_i^k\\}$"
   ]
  },
  {
   "cell_type": "markdown",
   "metadata": {},
   "source": [
    "## Load data"
   ]
  },
  {
   "cell_type": "code",
   "execution_count": null,
   "metadata": {
    "pycharm": {
     "name": "#%%\n"
    }
   },
   "outputs": [],
   "source": [
    "import numpy as np\n",
    "from tutorial2_pop_med_image_shape_ana.utils.sammon import sammon\n",
    "from tutorial2_pop_med_image_shape_ana.utils.utils import runClassification\n",
    "from sklearn.preprocessing import normalize\n",
    "import matplotlib.pyplot as plt\n",
    "\n",
    "dataFCM = np.load('tutorial2_pop_med_image_shape_ana/data/femurOAclassificationDataFCM.npy')\n",
    "dataPDM = np.load('tutorial2_pop_med_image_shape_ana/data/femurOAclassificationDataPDM.npy')\n",
    "\n",
    "# first row -> label {0, 1}, second to last row -> shape weights (column is sample, row is feature)\n",
    "labels = dataFCM[0, :]\n",
    "fcmFeatures = dataFCM[1:, :]\n",
    "pdmFeatures = dataPDM[1:, :]\n",
    "\n",
    "# dark green (FCM) and dark violet (PDM)\n",
    "colors = ['#008c04', '#ae00d8']"
   ]
  },
  {
   "cell_type": "markdown",
   "metadata": {},
   "source": [
    "## Visualization of Two Principal Weights"
   ]
  },
  {
   "cell_type": "markdown",
   "metadata": {},
   "source": [
    "Choose different values for 'pw1' and 'pw2'. What is your impression?\n",
    "- Are there some weights more expressive than others?\n",
    "- What can you say about the difference between FCM and PDM?"
   ]
  },
  {
   "cell_type": "code",
   "execution_count": null,
   "metadata": {
    "pycharm": {
     "name": "#%%\n"
    }
   },
   "outputs": [],
   "source": [
    "[pW1, pW2] = [10, 15]\n",
    "\n",
    "# split data into healthy and diseased index lists\n",
    "healthy = np.where(labels == 0)[0]\n",
    "diseased = np.where(labels != 0)[0]\n",
    "\n",
    "fig, ax = plt.subplots(1, 2, figsize=(12, 5))\n",
    "data_list = [fcmFeatures, pdmFeatures]\n",
    "title_list = ['FCM-weights of Two Principal Directions', ' PDM-weights of Two Principal Directions']\n",
    "legendLocation_list = ['upper right', 'upper left']\n",
    "\n",
    "for k in range(2):\n",
    "    ax[k].scatter(data_list[k][pW1, healthy], data_list[k][pW2, healthy], s=40, linewidths=2, c=colors[k], label='healthy')\n",
    "    ax[k].scatter(data_list[k][pW1, diseased], data_list[k][pW2, diseased], s=40, linewidths=2, c='white', edgecolors=colors[k], label='diseased')\n",
    "    ax[k].set_xticks([])\n",
    "    ax[k].set_yticks([])\n",
    "    ax[k].set_title(title_list[k])\n",
    "    ax[k].legend(loc=legendLocation_list[k])\n",
    "\n",
    "plt.show()"
   ]
  },
  {
   "cell_type": "markdown",
   "metadata": {},
   "source": [
    "## Sammon Projection to Two Dimensions\n",
    "\n",
    "the Sammon projection tries to find a low dimensional (2d in our case) representation of some given high dimensional data, s.t. the following error is minimal\n",
    "\n",
    "\\begin{equation}\n",
    "Err = \\dfrac{1}{\\sum_{i<j}d_{R^2}(\\text{pr}(\\alpha_i), \\text{pr}(\\alpha_i))} \\sum_{i<j}\\dfrac{(d_{R^2}(\\text{pr}(\\alpha_i), \\text{pr}(\\alpha_i)) - d_{R^d}(\\alpha_i, \\alpha_j))^2}{d_{R^2}(\\text{pr}(\\alpha_i), \\text{pr}(\\alpha_i))}.\n",
    "\\end{equation}\n",
    "\n",
    "In other words: The distances between two weight vectors $\\alpha_i, \\alpha_j$ before projection should be close to those after projection.\n",
    "\n",
    "([A nonlinear mapping for data structure analysis](https://doi.org/10.1109/T-C.1969.222678), JW. Sammon, IEEE Transactions on computers (1969). [PDF](http://syllabus.cs.manchester.ac.uk/pgt/2021/COMP61021/reference/Sammon.pdf))"
   ]
  },
  {
   "cell_type": "code",
   "execution_count": null,
   "metadata": {
    "pycharm": {
     "name": "#%%\n"
    }
   },
   "outputs": [],
   "source": [
    "fcmSammon, _ = sammon(fcmFeatures.transpose(), 2, display=0)\n",
    "pdmSammon, _ = sammon(pdmFeatures.transpose(), 2, display=0)\n",
    "\n",
    "fig, ax = plt.subplots(1, 2, figsize=(12, 5))\n",
    "data_list = [fcmSammon, pdmSammon]\n",
    "title_list = ['Sammon Projection of FCM-weights', 'Sammon Projection of PDM-weights']\n",
    "\n",
    "for k in range(2):\n",
    "    ax[k].scatter(data_list[k][healthy, 0], data_list[k][healthy, 1], s=40, linewidths=2, c=colors[k], label='healthy')\n",
    "    ax[k].scatter(data_list[k][diseased, 0], data_list[k][diseased, 1], s=40, linewidths=2, c='white', edgecolors=colors[k], label='diseased')\n",
    "    ax[k].set_xticks([])\n",
    "    ax[k].set_yticks([])\n",
    "    ax[k].set_title(title_list[k])\n",
    "    ax[k].legend(loc=legendLocation_list[k])\n",
    "\n",
    "plt.show()"
   ]
  },
  {
   "cell_type": "markdown",
   "metadata": {},
   "source": [
    "# Osteoarthritis Classification Experiment"
   ]
  },
  {
   "cell_type": "code",
   "execution_count": null,
   "metadata": {
    "pycharm": {
     "name": "#%%\n"
    }
   },
   "outputs": [],
   "source": [
    "nPartitions = 9\n",
    "nRandomSamplings = 1000\n",
    "\n",
    "# normalize feature vectors\n",
    "fcmFeatures = normalize(fcmFeatures, axis=0, norm=\"l2\")\n",
    "pdmFeatures = normalize(pdmFeatures, axis=0, norm=\"l2\")\n",
    "\n",
    "fcmavgAccuracyPerPartition, fcmstdDevPerPartition = runClassification(nPartitions, nRandomSamplings, fcmFeatures, labels)\n",
    "pdmavgAccuracyPerPartition, pdmstdDevPerPartition = runClassification(nPartitions, nRandomSamplings, pdmFeatures, labels)\n",
    "\n",
    "data_list_avg = [fcmavgAccuracyPerPartition, pdmavgAccuracyPerPartition]\n",
    "data_list_std = [fcmstdDevPerPartition, fcmstdDevPerPartition]\n",
    "\n",
    "plotClassificationResults(data_list_avg, data_list_std)\n",
    "\n",
    "\n"
   ]
  },
  {
   "cell_type": "code",
   "execution_count": null,
   "metadata": {},
   "outputs": [],
   "source": []
  }
 ],
 "metadata": {
  "kernelspec": {
   "display_name": "Python 3 (ipykernel)",
   "language": "python",
   "name": "python3"
  },
  "language_info": {
   "codemirror_mode": {
    "name": "ipython",
    "version": 3
   },
   "file_extension": ".py",
   "mimetype": "text/x-python",
   "name": "python",
   "nbconvert_exporter": "python",
   "pygments_lexer": "ipython3",
   "version": "3.9.7"
  }
 },
 "nbformat": 4,
 "nbformat_minor": 1
}
