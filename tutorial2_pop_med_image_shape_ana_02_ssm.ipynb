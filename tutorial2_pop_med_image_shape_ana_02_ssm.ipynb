{
 "cells": [
  {
   "cell_type": "markdown",
   "metadata": {
    "collapsed": true,
    "pycharm": {
     "name": "#%% md\n"
    }
   },
   "source": [
    "# Statistical Shape Modeling\n",
    "\n",
    "Statistical shape models (SSMs) provide a principled way for extracting knowledge from empirically given collections of objects.\n",
    "SSMs describe the geometric variability in a collection in terms of a mean shape and a hierarchy of principal modes explaining the main trends of shape variation. More precisely, due to the nonlinear structure the mean and the modes are computed in terms of their Riemannian counterparts, viz. Fréchet mean and Pricipal Geodesic Analysis. The resulting models provide a shape prior that can be used to constrain synthesis and analysis problems. In `StatisticalShapeModel` we provide an method to construct an SSM for which the mean agrees with the reference and thus avoids a systematic bias due to choice thereof.\n",
    "\n",
    "You should build SSMs within this tutorial based on two different Shape Spaces: `PointDistributionModel` and `FundamentalCoords`.\n",
    "The illustrative example below details how to set up a `FundamentalCoords` SSM and explains its basic usage."
   ]
  },
  {
   "cell_type": "code",
   "execution_count": null,
   "metadata": {
    "pycharm": {
     "name": "#%%\n"
    }
   },
   "outputs": [],
   "source": [
    "''' Read and show surfaces. '''\n",
    "\n",
    "import pyvista as pv\n",
    "\n",
    "nShapes=4\n",
    "\n",
    "# load surfaces\n",
    "meshes = [pv.read(f'./tutorial2_pop_med_image_shape_ana/data/hand{i}.ply') for i in range(1, nShapes + 1)]\n",
    "\n",
    "# show\n",
    "pl = pv.Plotter(notebook=True, shape=(1,nShapes))\n",
    "for i in range(nShapes):\n",
    "    pl.subplot(0, i)\n",
    "    pl.add_mesh(meshes[i], smooth_shading=True)\n",
    "    pl.view_yx()\n",
    "    pl.camera.roll += 180\n",
    "    pl.camera.zoom(2)\n",
    "pl.show(jupyter_backend='static', window_size=(1280,512))"
   ]
  },
  {
   "cell_type": "markdown",
   "metadata": {
    "pycharm": {
     "name": "#%% md\n"
    }
   },
   "source": [
    "## Task 2 on SSM construction\n",
    "Choose different shape spaces (FundamentalCoords, PointDistributionModel).\n",
    "- What can you say about the difference between FCM and PDM, regarding the resulting mean and modes of variation?\n",
    "\n",
    "Choose different values for `nSteps` and `mode`."
   ]
  },
  {
   "cell_type": "code",
   "execution_count": null,
   "metadata": {
    "pycharm": {
     "name": "#%%\n"
    },
    "scrolled": true
   },
   "outputs": [],
   "source": [
    "''' Construct SSM. '''\n",
    "\n",
    "from morphomatics.geom import Surface\n",
    "from morphomatics.stats import StatisticalShapeModel\n",
    "from morphomatics.manifold import FundamentalCoords, PointDistributionModel\n",
    "\n",
    "# to Surface type\n",
    "as_surface = lambda mesh: Surface(mesh.points, mesh.faces.reshape(-1, 4)[:, 1:])\n",
    "surfaces = [as_surface(m) for m in meshes]\n",
    "\n",
    "# construct model\n",
    "SSM = StatisticalShapeModel(lambda ref: FundamentalCoords(ref)) # replace me with PointDistributionModel\n",
    "SSM.construct(surfaces)\n",
    "\n",
    "print('Done')"
   ]
  },
  {
   "cell_type": "markdown",
   "metadata": {
    "pycharm": {
     "name": "#%% md\n"
    }
   },
   "source": [
    "Having set up the model one can easily access the mean shape vertex coordinates (`SSM.mean.v`),\n",
    "as well as the mean coordinates in Shape Space (`SSM.mean_coords`)."
   ]
  },
  {
   "cell_type": "code",
   "execution_count": null,
   "metadata": {
    "pycharm": {
     "name": "#%%\n"
    }
   },
   "outputs": [],
   "source": [
    "# show mean\n",
    "pl = pv.Plotter(notebook=True)\n",
    "pl.add_mesh(pv.PolyData(SSM.mean.v, meshes[0].faces), smooth_shading=True)\n",
    "pl.view_yx()\n",
    "pl.camera.roll += 180\n",
    "pl.show(jupyter_backend='static')"
   ]
  },
  {
   "cell_type": "markdown",
   "metadata": {},
   "source": [
    "Basic SSM properties can be accessed directly:\n",
    "* `SSM.modes` its modes of variation,\n",
    "* `SSM.variances` its per-mode-variances, and\n",
    "* `SSM.coeffs` its shape coefficients (uniquely determining all input shapes)\n",
    "\n",
    "Making straightforward use of the above one can generate samples from the SSM along the first mode of variation employing the exponential map of the underlying Shape Space:"
   ]
  },
  {
   "cell_type": "code",
   "execution_count": null,
   "metadata": {
    "pycharm": {
     "name": "#%%\n"
    }
   },
   "outputs": [],
   "source": [
    "nSteps = 4 # e.g. 4, 8, 12\n",
    "mode = 2 # e.g. 0, 1, 2\n",
    "\n",
    "''' sample trajectory along the main mode of variation '''\n",
    "import numpy as np\n",
    "\n",
    "# standard deviation associated to kth mode\n",
    "std = np.sqrt(SSM.variances[mode])\n",
    "\n",
    "pl = pv.Plotter(notebook=True, shape=(1,nSteps))\n",
    "for i, t in enumerate(np.linspace(-1.0,1.0,nSteps)):\n",
    "    # excite mode\n",
    "    coords = SSM.space.exp(SSM.mean_coords, t * std * SSM.modes[mode])\n",
    "    # map shape space coords to vertex coords\n",
    "    v = SSM.space.from_coords(coords)\n",
    "    # add mesh to plot\n",
    "    pl.subplot(0, i)\n",
    "    pl.add_mesh(pv.PolyData(v, meshes[0].faces), smooth_shading=True)\n",
    "    pl.view_yx()\n",
    "    pl.camera.roll += 180\n",
    "    pl.camera.zoom(3)\n",
    "pl.show(jupyter_backend='static', window_size=(1280,512))"
   ]
  },
  {
   "cell_type": "markdown",
   "metadata": {},
   "source": [
    "## Task 3 on Synthesis of Shapes from Statistical Shape Model\n",
    "\n",
    "Rerun the following code cell various times to generate different randomly sampled shapes.\n",
    "- How would you judge the specificity of the model, i.e. how well do the shythetic shapes fit plausible hand poses?"
   ]
  },
  {
   "cell_type": "code",
   "execution_count": null,
   "metadata": {},
   "outputs": [],
   "source": [
    "# Sample weights from multivariate normal distribution with learned standard deviations\n",
    "weights = np.random.normal(scale=np.sqrt(SSM.variances))\n",
    "\n",
    "# Compute tangent vector as blend of principal modes (matrix-vector product)\n",
    "vec = weights @ SSM.modes\n",
    "\n",
    "# Shoot geodesic in given direction\n",
    "coords = SSM.space.exp(SSM.mean_coords, vec)\n",
    "\n",
    "# map shape space coords to vertex coords\n",
    "v = SSM.space.from_coords(coords)\n",
    "\n",
    "# add mesh to plot\n",
    "pl = pv.Plotter(notebook=True)\n",
    "pl.add_mesh(pv.PolyData(v, meshes[0].faces))\n",
    "pl.view_yx()\n",
    "pl.camera.roll += 180\n",
    "pl.show(jupyter_backend='ipygany')"
   ]
  },
  {
   "cell_type": "code",
   "execution_count": null,
   "metadata": {},
   "outputs": [],
   "source": []
  }
 ],
 "metadata": {
  "kernelspec": {
   "display_name": "Python 3 (ipykernel)",
   "language": "python",
   "name": "python3"
  },
  "language_info": {
   "codemirror_mode": {
    "name": "ipython",
    "version": 3
   },
   "file_extension": ".py",
   "mimetype": "text/x-python",
   "name": "python",
   "nbconvert_exporter": "python",
   "pygments_lexer": "ipython3",
   "version": "3.9.7"
  }
 },
 "nbformat": 4,
 "nbformat_minor": 1
}