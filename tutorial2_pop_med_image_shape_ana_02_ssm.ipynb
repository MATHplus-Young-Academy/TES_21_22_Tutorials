{
 "cells": [
  {
   "cell_type": "markdown",
   "metadata": {
    "collapsed": true,
    "pycharm": {
     "name": "#%% md\n"
    }
   },
   "source": [
    "# Statistical Shape Modeling\n",
    "\n",
    "Statistical shape models (SSMs) provide a principled way for extracting knowledge from empirically given collections of objects.\n",
    "Instead of considering only a few quantities derived from a shape, such as volume, studying shapes in their entirety allows for a full geometric characterization and hence more differentiated assertions about the shapes.\n",
    "SSMs describe the geometric variability in a collection in terms of a mean shape and a hierarchy of major modes explaining the main trends of shape variation.\n",
    "Based on a notion of shape space, SSMs can be learned from consistently parametrized instances from the object class under study.\n",
    "The resulting models provide a shape prior that can be used to constrain synthesis and analysis problems.\n",
    "Moreover, their parameter space provides a compact representation that is amenable to learning algorithms (e.g. classification or clustering), evaluation, and exploration.\n",
    "\n",
    "## Intrinsic mean\n",
    "\n",
    "The simplest - yet also perhaps most fundamentally important - statistic is the sample mean, which estimates the center of a data set.\n",
    "Because a Riemannian manifold $\\mathcal{M}$ has a distance metric $\\text{dist}_\\mathcal{M}$, we can characterize the mean as the point closest to the data points $x_1,\\ldots,x_N \\in \\mathcal{M}$.\n",
    "This leads to the notion of (sample) Fréchet mean that is the minimizer of the sum-of-squared geodesic distances to the data:\n",
    "\n",
    "$$\\mu = \\arg\\min_{x\\in\\mathcal{M}}  \\sum_{i=1}^N \\text{dist}_\\mathcal{M}^2(x,x_i)$$\n",
    "\n",
    "While closed-form solutions exist in flat spaces, solving this least-squares problem in general requires iterative optimization routines.\n",
    "To this end, `morphomatics.stats.ExponentialBarycenter` implements the efficient Newton-type fixed-point iteration\n",
    "\n",
    "$$ \\mu_{k+i} = \\exp_{\\mu_k} \\left( 1/N \\sum_{i=1}^N \\log_{\\mu_k}(x_i) \\right). $$\n",
    "\n",
    "As it requires only a notion of exponential and logarithmic map, it can also be used to compute bi-invariant means in affine connection spaces.\n",
    "\n",
    "## Principal geodesic analysis\n",
    "\n",
    "For second order statistics `morphomatics.stats.PrincipalGeodesicAnalysis` provides (linearized) Principal Geodesic Analysis at $\\mu$ that is an extension of the common Principal Component Analysis to Riemannian manifolds allowing for covariance analysis.\n",
    "In particular, the solution is found algorithmically by eigendecomposition of the Gram matrix $C=(c_{ij})_{ij}$, with elements $c_{ij}=g_{\\mu}{\\left(\\log_\\mu{(x_i)}, \\log_\\mu{(x_j)}\\right)}$.\n",
    "\n",
    "## Statistical shape model (SSM)\n",
    "\n",
    "In order to avoid a systematic bias due to the choice of reference shape (cf. the introduction to [Shape Space](../tutorial_shape_space)), we require it to agree with the mean of the training data.\n",
    "This approach yields a cyclic dependency between the reference and the mean shape.\n",
    "In `morphomatics.stats.StatisticalShapeModel` we provide an method to construct a statistical shape model for which the mean agrees with the reference based on an alternating optimization strategy.\n",
    "\n",
    "Currently SSMs can be build based on three different [Shape Spaces](../tutorial_shape_space): `PointDistributionModel`, `DifferentialCoords` and `FundamentalCoords`.\n",
    "The illustrative example below details how to set up a `morphomatics.manifold.FundamentalCoords` SSM and explains its basic usage. Other types are constructed analogously replacing the Shape Space accordingly. However,\n",
    "as Shape Spaces can allow for parameters the following code snippet is showing the default case. Note that faces and vertices need to be organized as explained [here](../tutorial_shape_space)."
   ]
  },
  {
   "cell_type": "code",
   "execution_count": null,
   "metadata": {
    "pycharm": {
     "name": "#%%\n"
    }
   },
   "outputs": [],
   "source": [
    "''' Read and show surfaces. '''\n",
    "\n",
    "import pyvista as pv\n",
    "\n",
    "# load surfaces\n",
    "meshes = [pv.read(f'./tutorial2_pop_med_image_shape_ana/data/hand{i}.ply') for i in [1,2,3]]\n",
    "\n",
    "# show\n",
    "pl = pv.Plotter(notebook=True, shape=(1,3))\n",
    "for i in range(3):\n",
    "    pl.subplot(0, i)\n",
    "    pl.add_mesh(meshes[i], smooth_shading=True)\n",
    "    pl.view_yx()\n",
    "    pl.camera.roll += 180\n",
    "    pl.camera.zoom(2)\n",
    "pl.show(jupyter_backend='static', window_size=(1280,512))"
   ]
  },
  {
   "cell_type": "code",
   "execution_count": null,
   "metadata": {
    "pycharm": {
     "name": "#%%\n"
    }
   },
   "outputs": [],
   "source": [
    "''' Construct SSM. '''\n",
    "\n",
    "from morphomatics.geom import Surface\n",
    "from morphomatics.stats import StatisticalShapeModel\n",
    "from morphomatics.manifold import FundamentalCoords, PointDistributionModel, DifferentialCoords\n",
    "\n",
    "# to Surface type\n",
    "as_surface = lambda mesh: Surface(mesh.points, mesh.faces.reshape(-1, 4)[:, 1:])\n",
    "surfaces = [as_surface(m) for m in meshes]\n",
    "\n",
    "# construct model\n",
    "SSM = StatisticalShapeModel(lambda ref: FundamentalCoords(ref))\n",
    "SSM.construct(surfaces)\n"
   ]
  },
  {
   "cell_type": "markdown",
   "metadata": {
    "pycharm": {
     "name": "#%% md\n"
    }
   },
   "source": [
    "Having set up the model one can easily access the mean shape vertex coordinates (`SSM.mean.v`),\n",
    "as well as the mean coordinates in Shape Space (`SSM.mean_coords`)."
   ]
  },
  {
   "cell_type": "code",
   "execution_count": null,
   "metadata": {
    "pycharm": {
     "name": "#%%\n"
    }
   },
   "outputs": [],
   "source": [
    "# show mean\n",
    "pl = pv.Plotter(notebook=True)\n",
    "pl.add_mesh(pv.PolyData(SSM.mean.v, meshes[0].faces), smooth_shading=True)\n",
    "pl.view_yx()\n",
    "pl.camera.roll += 180\n",
    "pl.show(jupyter_backend='static')"
   ]
  },
  {
   "cell_type": "markdown",
   "metadata": {},
   "source": [
    "Basic SSM properties can be accessed directly:\n",
    "* `SSM.modes` its modes of variation,\n",
    "* `SSM.variances` its per-mode-variances, and\n",
    "* `SSM.coeffs` its shape coefficients (uniquely determining all input shapes)\n",
    "\n",
    "Making straightforward use of the above one can generate samples from the SSM along the first mode of variation employing the exponential map of the underlying Shape Space:"
   ]
  },
  {
   "cell_type": "code",
   "execution_count": null,
   "metadata": {
    "pycharm": {
     "name": "#%%\n"
    }
   },
   "outputs": [],
   "source": [
    "''' sample trajectory along the main mode of variation '''\n",
    "import numpy as np\n",
    "\n",
    "# standard deviation associated to 1st mode\n",
    "std = np.sqrt(SSM.variances[0])\n",
    "\n",
    "pl = pv.Plotter(notebook=True, shape=(1,4))\n",
    "for i, t in enumerate(np.linspace(-1.0,1.0,4)):\n",
    "    # excite mode\n",
    "    coords = SSM.space.exp(SSM.mean_coords, t * std * SSM.modes[0])\n",
    "    # map shape space coords to vertex coords\n",
    "    v = SSM.space.from_coords(coords)\n",
    "    # add mesh to plot\n",
    "    pl.subplot(0, i)\n",
    "    pl.add_mesh(pv.PolyData(v, meshes[0].faces), smooth_shading=True)\n",
    "    pl.view_yx()\n",
    "    pl.camera.roll += 180\n",
    "    pl.camera.zoom(3)\n",
    "pl.show(jupyter_backend='static', window_size=(1280,512))"
   ]
  },
  {
   "cell_type": "code",
   "execution_count": null,
   "metadata": {},
   "outputs": [],
   "source": []
  }
 ],
 "metadata": {
  "kernelspec": {
   "display_name": "Python 3 (ipykernel)",
   "language": "python",
   "name": "python3"
  },
  "language_info": {
   "codemirror_mode": {
    "name": "ipython",
    "version": 3
   },
   "file_extension": ".py",
   "mimetype": "text/x-python",
   "name": "python",
   "nbconvert_exporter": "python",
   "pygments_lexer": "ipython3",
   "version": "3.9.7"
  }
 },
 "nbformat": 4,
 "nbformat_minor": 1
}