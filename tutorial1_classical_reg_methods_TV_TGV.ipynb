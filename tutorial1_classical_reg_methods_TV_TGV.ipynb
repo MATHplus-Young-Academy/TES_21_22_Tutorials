{
 "cells": [
  {
   "cell_type": "markdown",
   "id": "f8ff3467",
   "metadata": {},
   "source": [
    "For all numerical experiments, we will be using the Chambolle-Pock primal-dual algorithm - details can be found on:\n",
    "1. [A First-order Primal-dual Algorithm for Convex Problems with Applications to Imaging](https://link.springer.com/article/10.1007/s10851-010-0251-1), A. Chambolle, T. Pock, Journal of Mathematical Imaging and Vision (2011). [PDF](https://hal.archives-ouvertes.fr/hal-00490826/document)\n",
    "2. [Recovering Piecewise Smooth Multichannel Images by Minimization of Convex Functionals with Total Generalized Variation Penalty](https://link.springer.com/chapter/10.1007/978-3-642-54774-4_3), K. Bredies, Efficient algorithms for global optimization methods in computer vision (2014). [PDF](https://imsc.uni-graz.at/mobis/publications/SFB-Report-2012-006.pdf)\n",
    "3. [Second Order Total Generalized Variation (TGV) for MRI](https://onlinelibrary.wiley.com/doi/full/10.1002/mrm.22595), F. Knoll, K. Bredies, T. Pock, R. Stollberger (2010). [PDF](https://onlinelibrary.wiley.com/doi/epdf/10.1002/mrm.22595)\n",
    "\n",
    "In order to compute the spatia dependent regularization weights we follow:\n",
    "\n",
    "4. [Dualization and Automatic Distributed Parameter Selection of Total Generalized Variation via Bilevel Optimization](https://arxiv.org/pdf/2002.05614.pdf), M. Hintermüller, K. Papafitsoros, C.N. Rautenberg, H. Sun, arXiv preprint, (2020)"
   ]
  },
  {
   "cell_type": "markdown",
   "id": "7e54cb0d",
   "metadata": {},
   "source": [
    "# Huber Total Variation Denoising"
   ]
  },
  {
   "cell_type": "markdown",
   "id": "038c81cc",
   "metadata": {},
   "source": [
    "We are solving the discretized version of the following minimization problem\n",
    "\\begin{equation}\\label{L2-TV}\n",
    "\\min_{u} \\int_{\\Omega} (u-f)^{2}dx + \\alpha \\int_{\\Omega}  \\varphi_{\\gamma}(\\nabla u)dx\n",
    "\\end{equation}\n",
    "were $\\phi_{\\gamma}:\\mathbb{R}^{d}\\to \\mathbb{R}^{+}$ with \n",
    "\\begin{equation}\n",
    "\\phi_{\\gamma}(v)=\n",
    "\\begin{cases}\n",
    "|v|-\\frac{1}{2}\\gamma & \\text{ if } |v|\\ge \\gamma,\\\\\n",
    "\\frac{1}{2\\gamma}|v(x)|^{2}& \\text{ if } |v|< \\gamma.\\\\\n",
    "\\end{cases}\n",
    "\\end{equation}\n",
    "\n",
    "\n",
    "\n",
    "\n",
    "\n"
   ]
  },
  {
   "cell_type": "markdown",
   "id": "3ca06cdd",
   "metadata": {},
   "source": [
    "## Import data..."
   ]
  },
  {
   "cell_type": "code",
   "execution_count": null,
   "id": "4dc53066",
   "metadata": {},
   "outputs": [],
   "source": [
    "import scipy.io as sio\n",
    "import matplotlib.pyplot as plt\n",
    "import numpy as np\n",
    "\n",
    "mat_contents = sio.loadmat('tutorial1_classical_reg_methods/parrot')\n",
    "clean=mat_contents['parrot']\n",
    "f=mat_contents['parrot_noisy_01']\n",
    "\n",
    "plt.figure(figsize = (7,7)) \n",
    "imgplot2 = plt.imshow(clean)\n",
    "imgplot2.set_cmap('gray')\n",
    "\n",
    "plt.figure(figsize = (7,7)) \n",
    "imgplot2 = plt.imshow(f)\n",
    "imgplot2.set_cmap('gray')\n",
    "\n",
    "from tutorial1_classical_reg_methods.Tutorial_Codes import psnr, reproject, dxm, dym, dxp, dyp, function_TGV_denoising_CP, P_a_Huber, function_HuberTV_denoising_CP\n"
   ]
  },
  {
   "cell_type": "markdown",
   "id": "8d47fc3a",
   "metadata": {},
   "source": [
    "## Task 1"
   ]
  },
  {
   "cell_type": "markdown",
   "id": "c17b1f74",
   "metadata": {},
   "source": [
    "Choose different values for $\\alpha$ and $\\gamma$ and interprent your results:\n",
    "- Fix $\\gamma$ small, e.g. $\\gamma=0.01$ and play with the values of $\\alpha$. What do you observe for large $\\alpha$? What for small?\n",
    "- Fix $\\alpha$ and play with the values of $\\gamma$. What do you observe for large $\\gamma$? What for small?\n"
   ]
  },
  {
   "cell_type": "code",
   "execution_count": null,
   "id": "89404788",
   "metadata": {},
   "outputs": [],
   "source": [
    "alpha=0.085\n",
    "gamma=0.001\n",
    "uTV =  function_HuberTV_denoising_CP(f,clean, alpha, gamma,1000)"
   ]
  },
  {
   "cell_type": "code",
   "execution_count": null,
   "id": "d253d1eb",
   "metadata": {},
   "outputs": [],
   "source": [
    "uTikhonov =  function_HuberTV_denoising_CP(f,clean, 5, 2,1000)"
   ]
  },
  {
   "cell_type": "markdown",
   "id": "8715c72f",
   "metadata": {},
   "source": [
    "# Total Generalized Variation Denoising"
   ]
  },
  {
   "cell_type": "markdown",
   "id": "7fefeff6",
   "metadata": {},
   "source": [
    "We are solving the discretized version of the following minimization problem\n",
    "\\begin{equation}\\label{L2-TGV}\n",
    "\\min_{u} \\int_{\\Omega} (u-f)^{2}dx + TGV_{\\alpha,\\beta}(u)\n",
    "\\end{equation}\n",
    "\n",
    "where \n",
    "\\begin{equation}\n",
    "TGV_{\\alpha,\\beta}(u)=\\min_{w} \\alpha \\int_{\\Omega}  |\\nabla u-w|dx + \\beta \\int_{\\Omega} |Ew|dx\n",
    "\\end{equation}"
   ]
  },
  {
   "cell_type": "markdown",
   "id": "bf36b7ca",
   "metadata": {},
   "source": [
    "## Task 2a"
   ]
  },
  {
   "cell_type": "markdown",
   "id": "183398ae",
   "metadata": {},
   "source": [
    "Choose different values for $\\alpha$ and $\\beta$ and solve the TGV denoising minimization problem.\n",
    "\n",
    "- What happens for small $\\alpha$ and large $\\beta$?\n",
    "- What happens for large $\\alpha$ and small $\\beta$?\n",
    "- What happens where both parameters are small/large?\n",
    "- Try to find the combination of parameters that gives the highest PSNR value."
   ]
  },
  {
   "cell_type": "code",
   "execution_count": null,
   "id": "6801cf2d",
   "metadata": {},
   "outputs": [],
   "source": [
    "#alpha=0.085\n",
    "#beta=0.15\n",
    "\n",
    "alpha=0.085\n",
    "beta=0.15\n",
    "\n",
    "uTGV =  function_TGV_denoising_CP(f,clean, alpha, beta, 500)"
   ]
  },
  {
   "cell_type": "markdown",
   "id": "b9203b79",
   "metadata": {},
   "source": [
    "## Task 2b"
   ]
  },
  {
   "cell_type": "markdown",
   "id": "f67c99c5",
   "metadata": {},
   "source": [
    "Import the following spatial dependent regularization weights, which are taken from this work:\n",
    "\n",
    "- [Dualization and Automatic Distributed Parameter Selection of Total Generalized Variation via Bilevel Optimization](https://arxiv.org/pdf/2002.05614.pdf), M. Hintermüller, K. Papafitsoros, C.N. Rautenberg, H. Sun, arXiv preprint, (2020)"
   ]
  },
  {
   "cell_type": "code",
   "execution_count": null,
   "id": "61da264e",
   "metadata": {},
   "outputs": [],
   "source": [
    "weight_contents = sio.loadmat('tutorial1_classical_reg_methods/spatial_dependent_weights')\n",
    "alpha_spatial=weight_contents['TGV_alpha_spatial']\n",
    "beta_spatial=weight_contents['TGV_beta_spatial']\n",
    "\n",
    "#plt.figure(figsize = (7,7)) \n",
    "#imgplot2 = plt.imshow(alpha_spatial)\n",
    "#imgplot2.set_cmap('gray')\n",
    "\n",
    "#plt.figure(figsize = (7,7)) \n",
    "#imgplot2 = plt.imshow(beta_spatial)\n",
    "#imgplot2.set_cmap('gray')\n",
    "\n",
    "from mpl_toolkits.mplot3d import Axes3D\n",
    "\n",
    "(n,m)=alpha_spatial.shape\n",
    "x=range(n)\n",
    "y=range(m)\n",
    "X, Y = np.meshgrid(x, y) \n",
    "halpha = plt.figure(figsize = (7,7))\n",
    "h_alpha = halpha.add_subplot(111, projection='3d')\n",
    "h_alpha.plot_surface(X, Y, alpha_spatial)\n",
    "\n",
    "hbeta = plt.figure(figsize = (7,7))\n",
    "h_beta = hbeta.add_subplot(111, projection='3d')\n",
    "h_beta.plot_surface(X, Y, beta_spatial)\n",
    "\n",
    "hclean = plt.figure(figsize = (7,7))\n",
    "h_clean = hclean.add_subplot(111, projection='3d')\n",
    "h_clean.plot_surface(X, Y, clean)"
   ]
  },
  {
   "cell_type": "markdown",
   "id": "b7ae93e2",
   "metadata": {},
   "source": [
    "And run again the algorithm with this weight:"
   ]
  },
  {
   "cell_type": "code",
   "execution_count": null,
   "id": "cab072dd",
   "metadata": {},
   "outputs": [],
   "source": [
    "uTGVspatial =  function_TGV_denoising_CP(f,clean, alpha_spatial, beta_spatial, 500)"
   ]
  },
  {
   "cell_type": "markdown",
   "id": "8304848e",
   "metadata": {},
   "source": [
    "Now you can see all the reconstructions together:\n"
   ]
  },
  {
   "cell_type": "code",
   "execution_count": null,
   "id": "ad45358a",
   "metadata": {},
   "outputs": [],
   "source": [
    "plt.rcParams['figure.figsize'] = np.array([4, 3])*3\n",
    "plt.rcParams['figure.dpi'] = 120\n",
    "fig, axs = plt.subplots(ncols=3, nrows=2)\n",
    "\n",
    "\n",
    "# remove ticks from plot\n",
    "for ax in axs.flat:\n",
    "    ax.set(xticks=[], yticks=[])\n",
    "\n",
    "axs[0,0].imshow(clean, cmap='gray')\n",
    "axs[0,0].set(xlabel='Clean')    \n",
    "    \n",
    "axs[0,1].imshow(f, cmap='gray')\n",
    "axs[0,1].set(xlabel='Noisy, PSNR = ' + str(np.around(psnr(f, clean),decimals=2)))\n",
    "\n",
    "axs[0,2].imshow(uTikhonov, cmap='gray')\n",
    "axs[0,2].set(xlabel='Tikhonov, PSNR = ' + str(np.around(psnr(uTikhonov, clean),decimals=2)))\n",
    "\n",
    "\n",
    "axs[1,0].imshow(uTV, cmap='gray')\n",
    "axs[1,0].set(xlabel='TV, PSNR = ' + str(np.around(psnr(uTV, clean),decimals=2)))\n",
    "\n",
    "\n",
    "axs[1,1].imshow(uTGV, cmap='gray')\n",
    "axs[1,1].set(xlabel = 'TGV, PSNR = ' + str(np.around(psnr(uTGV, clean),decimals=2)))\n",
    "\n",
    "axs[1,2].imshow(uTGVspatial, cmap='gray')\n",
    "axs[1,2].set(xlabel = 'TGV spatial, PSNR = ' + str(np.around(psnr(uTGVspatial, clean),decimals=2)))"
   ]
  },
  {
   "cell_type": "markdown",
   "id": "6df1b561",
   "metadata": {},
   "source": [
    "# TV and TGV MRI reconstruction"
   ]
  },
  {
   "cell_type": "markdown",
   "id": "2c98d073",
   "metadata": {},
   "source": [
    "Here we will be solving the discretized version of the following minimization problem\n",
    "\\begin{equation}\n",
    "\\min_{u} \\int_{\\Omega} (S \\circ F u-g)^{2}dx + \\alpha TV(u)\n",
    "\\end{equation}\n",
    "and \n",
    "\\begin{equation}\n",
    "\\min_{u} \\int_{\\Omega} (S \\circ F u-g)^{2}dx + TGV_{\\alpha,\\beta}(u)\n",
    "\\end{equation}\n",
    "\n",
    "The code for the examples below was kindly provided by Clemens Sirotenko."
   ]
  },
  {
   "cell_type": "markdown",
   "id": "97fef49b",
   "metadata": {},
   "source": [
    "## Import data"
   ]
  },
  {
   "cell_type": "code",
   "execution_count": null,
   "id": "13e5607f",
   "metadata": {},
   "outputs": [],
   "source": [
    "from tutorial1_classical_reg_methods.Tutorial_Codes import normalize, subsampling, subsampling_transposed, compute_differential_operators, function_TV_MRI_CP, function_TGV_MRI_CP \n",
    "from scipy import sparse\n",
    "import scipy.sparse.linalg\n",
    "\n",
    "image=np.load('tutorial1_classical_reg_methods/img_example.npy')\n",
    "image=np.abs(image[:,:,3])\n",
    "image = normalize(image)\n",
    "\n",
    "plt.figure(figsize = (7,7)) \n",
    "imgplot2 = plt.imshow(image)\n",
    "imgplot2.set_cmap('gray')\n",
    "\n"
   ]
  },
  {
   "cell_type": "markdown",
   "id": "12b06e3d",
   "metadata": {},
   "source": [
    "## Simulate noisy data and subsampled data"
   ]
  },
  {
   "cell_type": "markdown",
   "id": "bc2601a9",
   "metadata": {},
   "source": [
    "Create noisy data $ S \\circ F x  + \\varepsilon = y^{\\delta}$ where $x$ is th clean image and $ \\varepsilon \\sim \\mathcal{N}(0,\\sigma^2)$ normal distributed centered complex noise"
   ]
  },
  {
   "cell_type": "code",
   "execution_count": null,
   "id": "db828c5d",
   "metadata": {},
   "outputs": [],
   "source": [
    "mask = np.ones(np.shape(image))\n",
    "mask[:,1:-1:3] = 0\n",
    "\n",
    "Fx = np.fft.fft2(image,norm='ortho') #ortho means that the fft2 is unitary\n",
    "(M,N) = image.shape\n",
    "rate = 0.039 ##noise rate\n",
    "noise = np.random.randn(M,N) + (1j)*np.random.randn(M,N) #cmplx noise\n",
    "distorted_full = Fx + rate*noise \n",
    "distorted = subsampling(distorted_full, mask)\n",
    "zero_filling = np.real(np.fft.ifft2(subsampling_transposed(distorted, mask), norm = 'ortho'))\n",
    "\n",
    "plt.figure(figsize = (7,7)) \n",
    "imgplot2 = plt.imshow(mask)\n",
    "imgplot2.set_cmap('gray')\n",
    "\n",
    "plt.figure(figsize = (7,7)) \n",
    "imgplot2 = plt.imshow(zero_filling)\n",
    "imgplot2.set_cmap('gray')"
   ]
  },
  {
   "cell_type": "markdown",
   "id": "9a6305dc",
   "metadata": {},
   "source": [
    "## TV MRI reconstruction"
   ]
  },
  {
   "cell_type": "code",
   "execution_count": null,
   "id": "c0a95d50",
   "metadata": {},
   "outputs": [],
   "source": [
    "x_0 = zero_filling\n",
    "data = distorted\n",
    "alpha = 0.025\n",
    "tau = 1/np.sqrt(12)\n",
    "sigma = tau\n",
    "h = 1 \n",
    "max_it = 3000\n",
    "tol = 1e-4 # algorithm stops if |x_k - x_{k+1}| < tol\n",
    "x_TV = function_TV_MRI_CP(data,image,mask,x_0,tau,sigma,h,max_it,tol,alpha)"
   ]
  },
  {
   "cell_type": "code",
   "execution_count": null,
   "id": "8463fb4d",
   "metadata": {},
   "outputs": [],
   "source": [
    "plt.figure(figsize = (7,7)) \n",
    "imgplot2 = plt.imshow(x_TV)\n",
    "imgplot2.set_cmap('gray')"
   ]
  },
  {
   "cell_type": "markdown",
   "id": "532e1b9b",
   "metadata": {},
   "source": [
    "## TGV MRI reconstruction"
   ]
  },
  {
   "cell_type": "code",
   "execution_count": null,
   "id": "db46cf49",
   "metadata": {},
   "outputs": [],
   "source": [
    "alpha = 0.02\n",
    "beta = 0.035\n",
    "\n",
    "x_0 = zero_filling\n",
    "data = distorted\n",
    "tau = 1/np.sqrt(12)\n",
    "sigma = tau\n",
    "lambda_prox = 1\n",
    "h = 1 \n",
    "tol = 1e-4\n",
    "max_it = 2500\n",
    "x_TGV = function_TGV_MRI_CP(data,image, mask,x_0,tau,sigma,lambda_prox,h,max_it,tol,beta,alpha)"
   ]
  },
  {
   "cell_type": "code",
   "execution_count": null,
   "id": "e9472dd6",
   "metadata": {},
   "outputs": [],
   "source": [
    "plt.figure(figsize = (7,7)) \n",
    "imgplot2 = plt.imshow(x_TGV)\n",
    "imgplot2.set_cmap('gray')"
   ]
  },
  {
   "cell_type": "markdown",
   "id": "f22a1fac",
   "metadata": {},
   "source": [
    "Now you can see all the reconstructions together:"
   ]
  },
  {
   "cell_type": "code",
   "execution_count": null,
   "id": "e1639d13",
   "metadata": {},
   "outputs": [],
   "source": [
    "plt.rcParams['figure.figsize'] = np.array([2, 2])*5\n",
    "plt.rcParams['figure.dpi'] = 120\n",
    "fig, axs = plt.subplots(ncols=2, nrows=2)\n",
    "\n",
    "\n",
    "# remove ticks from plot\n",
    "for ax in axs.flat:\n",
    "    ax.set(xticks=[], yticks=[])\n",
    "\n",
    "axs[0,0].imshow(normalize(image), cmap='gray')\n",
    "axs[0,0].set(xlabel='Clean Image')\n",
    "\n",
    "axs[1,0].imshow(normalize(x_TV), cmap='gray')\n",
    "axs[1,0].set(xlabel='TV Reconstruction, PSNR = ' + str(np.around(psnr(x_TV, image),decimals=2)))\n",
    "\n",
    "axs[0,1].imshow(normalize(x_0), cmap='gray')\n",
    "axs[0,1].set(xlabel = 'Zero Filling Solution , PSNR = ' + str(np.around(psnr(x_0, image),decimals=2)))\n",
    "\n",
    "axs[1,1].imshow(normalize(x_TGV), cmap='gray')\n",
    "axs[1,1].set(xlabel='TGV Reconstruction , PSNR = ' + str(np.around(psnr(x_TGV, image),decimals=2)))\n",
    "\n",
    "\n",
    "\n",
    "\n"
   ]
  },
  {
   "cell_type": "code",
   "execution_count": null,
   "id": "89675cf9",
   "metadata": {},
   "outputs": [],
   "source": []
  }
 ],
 "metadata": {
  "kernelspec": {
   "display_name": "Python 3",
   "language": "python",
   "name": "python3"
  },
  "language_info": {
   "codemirror_mode": {
    "name": "ipython",
    "version": 3
   },
   "file_extension": ".py",
   "mimetype": "text/x-python",
   "name": "python",
   "nbconvert_exporter": "python",
   "pygments_lexer": "ipython3",
   "version": "3.6.7"
  }
 },
 "nbformat": 4,
 "nbformat_minor": 5
}
