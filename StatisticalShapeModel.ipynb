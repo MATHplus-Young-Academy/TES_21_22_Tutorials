{
 "cells": [
  {
   "cell_type": "markdown",
   "source": [
    "# Computer statistical shape model in fundamental coordinates representation"
   ],
   "metadata": {
    "collapsed": false,
    "pycharm": {
     "name": "#%% md\n"
    }
   }
  },
  {
   "cell_type": "code",
   "execution_count": 3,
   "metadata": {
    "collapsed": true
   },
   "outputs": [
    {
     "ename": "ImportError",
     "evalue": "cannot import name 'decasteljau' from partially initialized module 'morphomatics.geom.BezierSpline' (most likely due to a circular import) (/home/bzftycow/ZIB/GDAP/gdap/morphomatics/geom/BezierSpline.py)",
     "output_type": "error",
     "traceback": [
      "\u001B[0;31m---------------------------------------------------------------------------\u001B[0m",
      "\u001B[0;31mImportError\u001B[0m                               Traceback (most recent call last)",
      "\u001B[0;32m/tmp/ipykernel_18617/634524423.py\u001B[0m in \u001B[0;36m<module>\u001B[0;34m\u001B[0m\n\u001B[1;32m      2\u001B[0m \u001B[0;32mimport\u001B[0m \u001B[0mpyvista\u001B[0m \u001B[0;32mas\u001B[0m \u001B[0mpv\u001B[0m\u001B[0;34m\u001B[0m\u001B[0;34m\u001B[0m\u001B[0m\n\u001B[1;32m      3\u001B[0m \u001B[0;34m\u001B[0m\u001B[0m\n\u001B[0;32m----> 4\u001B[0;31m \u001B[0;32mfrom\u001B[0m \u001B[0mmorphomatics\u001B[0m\u001B[0;34m.\u001B[0m\u001B[0mgeom\u001B[0m \u001B[0;32mimport\u001B[0m \u001B[0mSurface\u001B[0m\u001B[0;34m\u001B[0m\u001B[0;34m\u001B[0m\u001B[0m\n\u001B[0m\u001B[1;32m      5\u001B[0m \u001B[0;32mfrom\u001B[0m \u001B[0mmorphomatics\u001B[0m\u001B[0;34m.\u001B[0m\u001B[0mstats\u001B[0m \u001B[0;32mimport\u001B[0m \u001B[0mStatisticalShapeModel\u001B[0m\u001B[0;34m\u001B[0m\u001B[0;34m\u001B[0m\u001B[0m\n\u001B[1;32m      6\u001B[0m \u001B[0;32mfrom\u001B[0m \u001B[0mmorphomatics\u001B[0m\u001B[0;34m.\u001B[0m\u001B[0mmanifold\u001B[0m \u001B[0;32mimport\u001B[0m \u001B[0mFundamentalCoords\u001B[0m\u001B[0;34m\u001B[0m\u001B[0;34m\u001B[0m\u001B[0m\n",
      "\u001B[0;32m~/ZIB/GDAP/gdap/morphomatics/geom/__init__.py\u001B[0m in \u001B[0;36m<module>\u001B[0;34m\u001B[0m\n\u001B[1;32m      2\u001B[0m \u001B[0;34m\u001B[0m\u001B[0m\n\u001B[1;32m      3\u001B[0m \u001B[0;32mfrom\u001B[0m \u001B[0;34m.\u001B[0m\u001B[0msurface\u001B[0m \u001B[0;32mimport\u001B[0m \u001B[0mSurface\u001B[0m\u001B[0;34m\u001B[0m\u001B[0;34m\u001B[0m\u001B[0m\n\u001B[0;32m----> 4\u001B[0;31m \u001B[0;32mfrom\u001B[0m \u001B[0;34m.\u001B[0m\u001B[0mBezierSpline\u001B[0m \u001B[0;32mimport\u001B[0m \u001B[0mBezierSpline\u001B[0m\u001B[0;34m\u001B[0m\u001B[0;34m\u001B[0m\u001B[0m\n\u001B[0m\u001B[1;32m      5\u001B[0m \u001B[0;34m\u001B[0m\u001B[0m\n",
      "\u001B[0;32m~/ZIB/GDAP/gdap/morphomatics/geom/BezierSpline.py\u001B[0m in \u001B[0;36m<module>\u001B[0;34m\u001B[0m\n\u001B[1;32m      1\u001B[0m \u001B[0;32mimport\u001B[0m \u001B[0mnumpy\u001B[0m \u001B[0;32mas\u001B[0m \u001B[0mnp\u001B[0m\u001B[0;34m\u001B[0m\u001B[0;34m\u001B[0m\u001B[0m\n\u001B[0;32m----> 2\u001B[0;31m \u001B[0;32mfrom\u001B[0m \u001B[0mmorphomatics\u001B[0m\u001B[0;34m.\u001B[0m\u001B[0mmanifold\u001B[0m \u001B[0;32mimport\u001B[0m \u001B[0mManifold\u001B[0m \u001B[0;32mas\u001B[0m \u001B[0mRiemannianManifold\u001B[0m\u001B[0;34m\u001B[0m\u001B[0;34m\u001B[0m\u001B[0m\n\u001B[0m\u001B[1;32m      3\u001B[0m \u001B[0;34m\u001B[0m\u001B[0m\n\u001B[1;32m      4\u001B[0m \u001B[0;34m\u001B[0m\u001B[0m\n\u001B[1;32m      5\u001B[0m \u001B[0;32mclass\u001B[0m \u001B[0mBezierSpline\u001B[0m\u001B[0;34m:\u001B[0m\u001B[0;34m\u001B[0m\u001B[0;34m\u001B[0m\u001B[0m\n",
      "\u001B[0;32m~/ZIB/GDAP/gdap/morphomatics/manifold/__init__.py\u001B[0m in \u001B[0;36m<module>\u001B[0;34m\u001B[0m\n\u001B[1;32m     19\u001B[0m \u001B[0;34m\u001B[0m\u001B[0m\n\u001B[1;32m     20\u001B[0m \u001B[0;31m# Space of shape trajectories\u001B[0m\u001B[0;34m\u001B[0m\u001B[0;34m\u001B[0m\u001B[0;34m\u001B[0m\u001B[0m\n\u001B[0;32m---> 21\u001B[0;31m \u001B[0;32mfrom\u001B[0m \u001B[0;34m.\u001B[0m\u001B[0mBezierfold\u001B[0m \u001B[0;32mimport\u001B[0m \u001B[0mBezierfold\u001B[0m\u001B[0;34m\u001B[0m\u001B[0;34m\u001B[0m\u001B[0m\n\u001B[0m\u001B[1;32m     22\u001B[0m \u001B[0;34m\u001B[0m\u001B[0m\n\u001B[1;32m     23\u001B[0m \u001B[0;31m# PyManopt Wrapper for manifolds\u001B[0m\u001B[0;34m\u001B[0m\u001B[0;34m\u001B[0m\u001B[0;34m\u001B[0m\u001B[0m\n",
      "\u001B[0;32m~/ZIB/GDAP/gdap/morphomatics/manifold/Bezierfold.py\u001B[0m in \u001B[0;36m<module>\u001B[0;34m\u001B[0m\n\u001B[1;32m     11\u001B[0m \u001B[0;32mimport\u001B[0m \u001B[0mcopy\u001B[0m\u001B[0;34m\u001B[0m\u001B[0;34m\u001B[0m\u001B[0m\n\u001B[1;32m     12\u001B[0m \u001B[0;34m\u001B[0m\u001B[0m\n\u001B[0;32m---> 13\u001B[0;31m \u001B[0;32mfrom\u001B[0m \u001B[0;34m.\u001B[0m\u001B[0;34m.\u001B[0m\u001B[0mstats\u001B[0m\u001B[0;34m.\u001B[0m\u001B[0mRiemannianRegression\u001B[0m \u001B[0;32mimport\u001B[0m \u001B[0mRiemannianRegression\u001B[0m\u001B[0;34m\u001B[0m\u001B[0;34m\u001B[0m\u001B[0m\n\u001B[0m\u001B[1;32m     14\u001B[0m \u001B[0;32mfrom\u001B[0m \u001B[0;34m.\u001B[0m\u001B[0;34m.\u001B[0m\u001B[0mstats\u001B[0m\u001B[0;34m.\u001B[0m\u001B[0mExponentialBarycenter\u001B[0m \u001B[0;32mimport\u001B[0m \u001B[0mExponentialBarycenter\u001B[0m\u001B[0;34m\u001B[0m\u001B[0;34m\u001B[0m\u001B[0m\n\u001B[1;32m     15\u001B[0m \u001B[0;32mfrom\u001B[0m \u001B[0;34m.\u001B[0m\u001B[0;34m.\u001B[0m\u001B[0mgeom\u001B[0m\u001B[0;34m.\u001B[0m\u001B[0mBezierSpline\u001B[0m \u001B[0;32mimport\u001B[0m \u001B[0mBezierSpline\u001B[0m\u001B[0;34m\u001B[0m\u001B[0;34m\u001B[0m\u001B[0m\n",
      "\u001B[0;32m~/ZIB/GDAP/gdap/morphomatics/stats/__init__.py\u001B[0m in \u001B[0;36m<module>\u001B[0;34m\u001B[0m\n\u001B[1;32m      3\u001B[0m \u001B[0;32mfrom\u001B[0m \u001B[0;34m.\u001B[0m\u001B[0mPrincipalGeodesicAnalysis\u001B[0m \u001B[0;32mimport\u001B[0m \u001B[0mPrincipalGeodesicAnalysis\u001B[0m\u001B[0;34m\u001B[0m\u001B[0;34m\u001B[0m\u001B[0m\n\u001B[1;32m      4\u001B[0m \u001B[0;32mfrom\u001B[0m \u001B[0;34m.\u001B[0m\u001B[0mStatisticalShapeModel\u001B[0m \u001B[0;32mimport\u001B[0m \u001B[0mStatisticalShapeModel\u001B[0m\u001B[0;34m\u001B[0m\u001B[0;34m\u001B[0m\u001B[0m\n\u001B[0;32m----> 5\u001B[0;31m \u001B[0;32mfrom\u001B[0m \u001B[0;34m.\u001B[0m\u001B[0mRiemannianRegression\u001B[0m \u001B[0;32mimport\u001B[0m \u001B[0mRiemannianRegression\u001B[0m\u001B[0;34m\u001B[0m\u001B[0;34m\u001B[0m\u001B[0m\n\u001B[0m\u001B[1;32m      6\u001B[0m \u001B[0;32mfrom\u001B[0m \u001B[0;34m.\u001B[0m\u001B[0mBiinvariantStatistics\u001B[0m \u001B[0;32mimport\u001B[0m \u001B[0mBiinvariantStatistics\u001B[0m\u001B[0;34m\u001B[0m\u001B[0;34m\u001B[0m\u001B[0m\n",
      "\u001B[0;32m~/ZIB/GDAP/gdap/morphomatics/stats/RiemannianRegression.py\u001B[0m in \u001B[0;36m<module>\u001B[0;34m\u001B[0m\n\u001B[1;32m      1\u001B[0m \u001B[0;32mimport\u001B[0m \u001B[0mnumpy\u001B[0m \u001B[0;32mas\u001B[0m \u001B[0mnp\u001B[0m\u001B[0;34m\u001B[0m\u001B[0;34m\u001B[0m\u001B[0m\n\u001B[1;32m      2\u001B[0m \u001B[0;32mfrom\u001B[0m \u001B[0mmorphomatics\u001B[0m\u001B[0;34m.\u001B[0m\u001B[0mgeom\u001B[0m \u001B[0;32mimport\u001B[0m \u001B[0mBezierSpline\u001B[0m\u001B[0;34m\u001B[0m\u001B[0;34m\u001B[0m\u001B[0m\n\u001B[0;32m----> 3\u001B[0;31m \u001B[0;32mfrom\u001B[0m \u001B[0mmorphomatics\u001B[0m\u001B[0;34m.\u001B[0m\u001B[0mgeom\u001B[0m\u001B[0;34m.\u001B[0m\u001B[0mBezierSpline\u001B[0m \u001B[0;32mimport\u001B[0m \u001B[0mdecasteljau\u001B[0m\u001B[0;34m\u001B[0m\u001B[0;34m\u001B[0m\u001B[0m\n\u001B[0m\u001B[1;32m      4\u001B[0m \u001B[0;32mfrom\u001B[0m \u001B[0mmorphomatics\u001B[0m\u001B[0;34m.\u001B[0m\u001B[0mstats\u001B[0m\u001B[0;34m.\u001B[0m\u001B[0mExponentialBarycenter\u001B[0m \u001B[0;32mimport\u001B[0m \u001B[0mExponentialBarycenter\u001B[0m\u001B[0;34m\u001B[0m\u001B[0;34m\u001B[0m\u001B[0m\n\u001B[1;32m      5\u001B[0m \u001B[0;34m\u001B[0m\u001B[0m\n",
      "\u001B[0;31mImportError\u001B[0m: cannot import name 'decasteljau' from partially initialized module 'morphomatics.geom.BezierSpline' (most likely due to a circular import) (/home/bzftycow/ZIB/GDAP/gdap/morphomatics/geom/BezierSpline.py)"
     ]
    }
   ],
   "source": [
    "import numpy as np\n",
    "import pyvista as pv\n",
    "\n",
    "from morphomatics.geom import Surface\n",
    "from morphomatics.stats import StatisticalShapeModel\n",
    "from morphomatics.manifold import FundamentalCoords\n",
    "\n",
    "to_surf = lambda mesh: Surface(mesh.points, mesh.faces.reshape(-1, 4)[:, 1:])\n",
    "S1 = to_surf(pv.read('./data/straight.obj'))\n",
    "S2 = to_surf(pv.read('./data/helix.obj'))\n",
    "\n",
    "SSM = StatisticalShapeModel(lambda ref: FundamentalCoords(ref))\n",
    "SSM.construct([S1,S2])\n",
    "print(f'variances: {SSM.variances}')\n",
    "\n",
    "pl = pv.Plotter(notebook=True)\n",
    "f = np.hstack([3 * np.ones(len(SSM.mean.f), dtype=int).reshape(-1, 1), SSM.mean.f])\n",
    "mesh = pv.PolyData(SSM.mean.v, f)\n",
    "pl.add_mesh(mesh)\n",
    "pl.reset_camera()\n",
    "\n",
    "std = np.sqrt(SSM.variances[0])\n",
    "update_mesh = lambda a: pl.update_coordinates(\n",
    "SSM.space.from_coords(SSM.space.exp(SSM.mean_coords, a * std * SSM.modes[0])))"
   ]
  },
  {
   "cell_type": "markdown",
   "source": [
    "## Server-side rendering with `ipyvtklink`."
   ],
   "metadata": {
    "collapsed": false,
    "pycharm": {
     "name": "#%% md\n"
    }
   }
  },
  {
   "cell_type": "code",
   "execution_count": null,
   "outputs": [],
   "source": [
    "slider = pl.add_slider_widget(callback=update_mesh, rng=(-1, 1))\n",
    "pl.show(jupyter_backend='ipyvtklink')"
   ],
   "metadata": {
    "collapsed": false,
    "pycharm": {
     "name": "#%%\n"
    }
   }
  },
  {
   "cell_type": "markdown",
   "source": [
    "## Client-side rendering with `ipygany` and `ipywidgets` for interaction."
   ],
   "metadata": {
    "collapsed": false,
    "pycharm": {
     "name": "#%% md\n"
    }
   }
  },
  {
   "cell_type": "code",
   "execution_count": null,
   "outputs": [],
   "source": [
    "from ipywidgets import interact\n",
    "\n",
    "@interact\n",
    "def plot(x=(-1,1,.1)):\n",
    "    update_mesh(x)\n",
    "    pl.show(jupyter_backend='ipygany')"
   ],
   "metadata": {
    "collapsed": false,
    "pycharm": {
     "name": "#%%\n"
    }
   }
  }
 ],
 "metadata": {
  "kernelspec": {
   "display_name": "Python 3",
   "language": "python",
   "name": "python3"
  },
  "language_info": {
   "codemirror_mode": {
    "name": "ipython",
    "version": 2
   },
   "file_extension": ".py",
   "mimetype": "text/x-python",
   "name": "python",
   "nbconvert_exporter": "python",
   "pygments_lexer": "ipython2",
   "version": "2.7.6"
  }
 },
 "nbformat": 4,
 "nbformat_minor": 0
}