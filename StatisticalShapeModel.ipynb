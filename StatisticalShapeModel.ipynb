{
 "cells": [
  {
   "cell_type": "markdown",
   "source": [
    "# Computer statistical shape model in fundamental coordinates representation"
   ],
   "metadata": {
    "collapsed": false,
    "pycharm": {
     "name": "#%% md\n"
    }
   }
  },
  {
   "cell_type": "code",
   "execution_count": null,
   "metadata": {
    "collapsed": true
   },
   "outputs": [],
   "source": [
    "import numpy as np\n",
    "import pyvista as pv\n",
    "\n",
    "from morphomatics.geom import Surface\n",
    "from morphomatics.stats import StatisticalShapeModel\n",
    "from morphomatics.manifold import FundamentalCoords\n",
    "\n",
    "to_surf = lambda mesh: Surface(mesh.points, mesh.faces.reshape(-1, 4)[:, 1:])\n",
    "S1 = to_surf(pv.read('./data/straight.obj'))\n",
    "S2 = to_surf(pv.read('./data/helix.obj'))\n",
    "\n",
    "SSM = StatisticalShapeModel(lambda ref: FundamentalCoords(ref))\n",
    "SSM.construct([S1,S2])\n",
    "print(f'variances: {SSM.variances}')\n",
    "\n",
    "pl = pv.Plotter(notebook=True)\n",
    "f = np.hstack([3 * np.ones(len(SSM.mean.f), dtype=int).reshape(-1, 1), SSM.mean.f])\n",
    "mesh = pv.PolyData(SSM.mean.v, f)\n",
    "pl.add_mesh(mesh)\n",
    "pl.reset_camera()\n",
    "\n",
    "std = np.sqrt(SSM.variances[0])\n",
    "update_mesh = lambda a: pl.update_coordinates(\n",
    "SSM.space.from_coords(SSM.space.exp(SSM.mean_coords, a * std * SSM.modes[0])))"
   ]
  },
  {
   "cell_type": "markdown",
   "source": [
    "## Server-side rendering with `ipyvtklink`."
   ],
   "metadata": {
    "collapsed": false,
    "pycharm": {
     "name": "#%% md\n"
    }
   }
  },
  {
   "cell_type": "code",
   "execution_count": null,
   "outputs": [],
   "source": [
    "slider = pl.add_slider_widget(callback=update_mesh, rng=(-1, 1))\n",
    "pl.show(jupyter_backend='ipyvtklink')"
   ],
   "metadata": {
    "collapsed": false,
    "pycharm": {
     "name": "#%%\n"
    }
   }
  },
  {
   "cell_type": "markdown",
   "source": [
    "## Client-side rendering with `ipygany` and `ipywidgets` for interaction."
   ],
   "metadata": {
    "collapsed": false,
    "pycharm": {
     "name": "#%% md\n"
    }
   }
  },
  {
   "cell_type": "code",
   "execution_count": null,
   "outputs": [],
   "source": [
    "from ipywidgets import interact\n",
    "\n",
    "@interact\n",
    "def plot(x=(-1,1,.1)):\n",
    "    update_mesh(x)\n",
    "    pl.show(jupyter_backend='ipygany')"
   ],
   "metadata": {
    "collapsed": false,
    "pycharm": {
     "name": "#%%\n"
    }
   }
  }
 ],
 "metadata": {
  "kernelspec": {
   "display_name": "Python 3",
   "language": "python",
   "name": "python3"
  },
  "language_info": {
   "codemirror_mode": {
    "name": "ipython",
    "version": 2
   },
   "file_extension": ".py",
   "mimetype": "text/x-python",
   "name": "python",
   "nbconvert_exporter": "python",
   "pygments_lexer": "ipython2",
   "version": "2.7.6"
  }
 },
 "nbformat": 4,
 "nbformat_minor": 0
}