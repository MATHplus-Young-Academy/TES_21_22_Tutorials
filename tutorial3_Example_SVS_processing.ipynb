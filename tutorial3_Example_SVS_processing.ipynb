{
 "cells": [
  {
   "cell_type": "markdown",
   "metadata": {},
   "source": [
    "# Example of SVS processing - interactive notebook"
   ]
  },
  {
   "cell_type": "markdown",
   "metadata": {},
   "source": [
    "This notebook demos the process of fitting a single voxel scan in an interactive notebook using the underlying python libraries in FSL-MRS.\n",
    "\n",
    "To view the plots in this notebook in Jupyter please consult the [plotly getting-started guide](https://plotly.com/python/getting-started/#jupyterlab-support-python-35).\n",
    "\n",
    "### Contents:  \n",
    "1. [File conversion using spec2nii](#1.-File-conversion-using-spec2nii)  \n",
    "2. [Interactive preprocessing](#2.-Interactive-preprocessing)\n",
    "3. [Fitting of the resultant spectrum](#3.-Fitting)\n",
    "4. [Display of fitting results in a notebook](#4.-Display)\n",
    "\n",
    "Will Clarke  \n",
    "June 2020  \n",
    "University of Oxford"
   ]
  },
  {
   "cell_type": "markdown",
   "metadata": {},
   "source": [
    "## 1. File conversion using spec2nii\n",
    "\n",
    "__THIS IS DONE ON THE COMMAND LINE__\n",
    "\n",
    "Run spec2nii twix -v to establish the file contents, then using this information run spec2nii twix -e with the appropriate flags to extract the required scans. The -q flag suppresses text output.\n",
    "\n",
    "This dataset uses a modified versions of the CMRR spectro package sequences on a Siemens scanner. It has three sets of water reference scans. The first is tagged as a phase correction, ans is collected at the start of the main suppressed water scan and will be used for eddy current correction.\n",
    "\n",
    "The second is collected in a separate scan with only the RF portion of the water suppression disabled. This is used for coil combination (and could be used for eddy current correction). The third is collected with the OVS and all aspects of the water suppression disabled. It therefore experiences eddy currents unlike all the other scans. It will be used for final concentration scaling."
   ]
  },
  {
   "cell_type": "code",
   "execution_count": 1,
   "metadata": {},
   "outputs": [
    {
     "name": "stderr",
     "output_type": "stream",
     "text": [
      "bash: line 2: spec2nii: command not found\n"
     ]
    },
    {
     "ename": "CalledProcessError",
     "evalue": "Command 'b'\\nspec2nii twix -v -q tutorial3_neural_MRI/fsl-data/meas_MID310_STEAM_metab_FID115673.dat\\n'' returned non-zero exit status 127.",
     "output_type": "error",
     "traceback": [
      "\u001b[0;31m---------------------------------------------------------------------------\u001b[0m",
      "\u001b[0;31mCalledProcessError\u001b[0m                        Traceback (most recent call last)",
      "Input \u001b[0;32mIn [1]\u001b[0m, in \u001b[0;36m<module>\u001b[0;34m\u001b[0m\n\u001b[0;32m----> 1\u001b[0m \u001b[43mget_ipython\u001b[49m\u001b[43m(\u001b[49m\u001b[43m)\u001b[49m\u001b[38;5;241;43m.\u001b[39;49m\u001b[43mrun_cell_magic\u001b[49m\u001b[43m(\u001b[49m\u001b[38;5;124;43m'\u001b[39;49m\u001b[38;5;124;43mbash\u001b[39;49m\u001b[38;5;124;43m'\u001b[39;49m\u001b[43m,\u001b[49m\u001b[43m \u001b[49m\u001b[38;5;124;43m'\u001b[39;49m\u001b[38;5;124;43m'\u001b[39;49m\u001b[43m,\u001b[49m\u001b[43m \u001b[49m\u001b[38;5;124;43m'\u001b[39;49m\u001b[38;5;130;43;01m\\n\u001b[39;49;00m\u001b[38;5;124;43mspec2nii twix -v -q tutorial3_neural_MRI/fsl-data/meas_MID310_STEAM_metab_FID115673.dat\u001b[39;49m\u001b[38;5;130;43;01m\\n\u001b[39;49;00m\u001b[38;5;124;43m'\u001b[39;49m\u001b[43m)\u001b[49m\n",
      "File \u001b[0;32m~/Library/Python/3.8/lib/python/site-packages/IPython/core/interactiveshell.py:2257\u001b[0m, in \u001b[0;36mInteractiveShell.run_cell_magic\u001b[0;34m(self, magic_name, line, cell)\u001b[0m\n\u001b[1;32m   2255\u001b[0m \u001b[38;5;28;01mwith\u001b[39;00m \u001b[38;5;28mself\u001b[39m\u001b[38;5;241m.\u001b[39mbuiltin_trap:\n\u001b[1;32m   2256\u001b[0m     args \u001b[38;5;241m=\u001b[39m (magic_arg_s, cell)\n\u001b[0;32m-> 2257\u001b[0m     result \u001b[38;5;241m=\u001b[39m \u001b[43mfn\u001b[49m\u001b[43m(\u001b[49m\u001b[38;5;241;43m*\u001b[39;49m\u001b[43margs\u001b[49m\u001b[43m,\u001b[49m\u001b[43m \u001b[49m\u001b[38;5;241;43m*\u001b[39;49m\u001b[38;5;241;43m*\u001b[39;49m\u001b[43mkwargs\u001b[49m\u001b[43m)\u001b[49m\n\u001b[1;32m   2258\u001b[0m \u001b[38;5;28;01mreturn\u001b[39;00m result\n",
      "File \u001b[0;32m~/Library/Python/3.8/lib/python/site-packages/IPython/core/magics/script.py:153\u001b[0m, in \u001b[0;36mScriptMagics._make_script_magic.<locals>.named_script_magic\u001b[0;34m(line, cell)\u001b[0m\n\u001b[1;32m    151\u001b[0m \u001b[38;5;28;01melse\u001b[39;00m:\n\u001b[1;32m    152\u001b[0m     line \u001b[38;5;241m=\u001b[39m script\n\u001b[0;32m--> 153\u001b[0m \u001b[38;5;28;01mreturn\u001b[39;00m \u001b[38;5;28;43mself\u001b[39;49m\u001b[38;5;241;43m.\u001b[39;49m\u001b[43mshebang\u001b[49m\u001b[43m(\u001b[49m\u001b[43mline\u001b[49m\u001b[43m,\u001b[49m\u001b[43m \u001b[49m\u001b[43mcell\u001b[49m\u001b[43m)\u001b[49m\n",
      "File \u001b[0;32m~/Library/Python/3.8/lib/python/site-packages/IPython/core/magics/script.py:305\u001b[0m, in \u001b[0;36mScriptMagics.shebang\u001b[0;34m(self, line, cell)\u001b[0m\n\u001b[1;32m    300\u001b[0m \u001b[38;5;28;01mif\u001b[39;00m args\u001b[38;5;241m.\u001b[39mraise_error \u001b[38;5;129;01mand\u001b[39;00m p\u001b[38;5;241m.\u001b[39mreturncode \u001b[38;5;241m!=\u001b[39m \u001b[38;5;241m0\u001b[39m:\n\u001b[1;32m    301\u001b[0m     \u001b[38;5;66;03m# If we get here and p.returncode is still None, we must have\u001b[39;00m\n\u001b[1;32m    302\u001b[0m     \u001b[38;5;66;03m# killed it but not yet seen its return code. We don't wait for it,\u001b[39;00m\n\u001b[1;32m    303\u001b[0m     \u001b[38;5;66;03m# in case it's stuck in uninterruptible sleep. -9 = SIGKILL\u001b[39;00m\n\u001b[1;32m    304\u001b[0m     rc \u001b[38;5;241m=\u001b[39m p\u001b[38;5;241m.\u001b[39mreturncode \u001b[38;5;129;01mor\u001b[39;00m \u001b[38;5;241m-\u001b[39m\u001b[38;5;241m9\u001b[39m\n\u001b[0;32m--> 305\u001b[0m     \u001b[38;5;28;01mraise\u001b[39;00m CalledProcessError(rc, cell)\n",
      "\u001b[0;31mCalledProcessError\u001b[0m: Command 'b'\\nspec2nii twix -v -q tutorial3_neural_MRI/fsl-data/meas_MID310_STEAM_metab_FID115673.dat\\n'' returned non-zero exit status 127."
     ]
    }
   ],
   "source": [
    "%%bash\n",
    "\n",
    "spec2nii twix -v -q tutorial3_neural_MRI/fsl-data/meas_MID310_STEAM_metab_FID115673.dat"
   ]
  },
  {
   "cell_type": "markdown",
   "metadata": {},
   "source": [
    "From the final lines of the output of the first cell we can see that this \"twix\" file contains two groups of data.  \n",
    "The first is tagged as \"image\" and contains 64 repetitions (sets) of 4096 point FIDs collected on 32 channels.  \n",
    "The second has a single FID on each channel.\n",
    "\n",
    "We now call spec2nii again specifying the group we want to extract each time. Each call to spec2nii will generate a NIfTI MRS file with a size of 1x1x1x4096x32xNdyn, where Ndyn is the number of dynamics (repeats).\n",
    "  \n",
    "We repeat this for the water reference scans, extracting just the image data."
   ]
  },
  {
   "cell_type": "code",
   "execution_count": null,
   "metadata": {},
   "outputs": [],
   "source": [
    "%%bash\n",
    "spec2nii twix -e image    -f steam_metab_raw -o data -j -q example_data/meas_MID310_STEAM_metab_FID115673.dat\n",
    "spec2nii twix -e phasecor -f steam_ecc_raw   -o data -j -q example_data/meas_MID310_STEAM_metab_FID115673.dat\n",
    "\n",
    "spec2nii twix -e image    -f steam_wref_comb_raw  -o data -j -q example_data/meas_MID311_STEAM_wref1_FID115674.dat\n",
    "spec2nii twix -e image    -f steam_wref_quant_raw -o data -j -q example_data/meas_MID312_STEAM_wref3_FID115675.dat"
   ]
  },
  {
   "cell_type": "markdown",
   "metadata": {},
   "source": [
    "## 2. Interactive preprocessing\n",
    "In this section we will preprocess the data using functions in the preproc package in fsl_mrs. This example could be used as a template to construct your own preprocessing script in python.\n",
    "\n",
    "#### Description of steps\n",
    "0. Load the data\n",
    "1. Take averages of water references used for combination across files\n",
    "2. Coil combine the metab data, the ecc data and the quantification data using the \"comb\" data as the reference.\n",
    "3. Phase and frequency align the data where there are multiple transients.\n",
    "4. Combine data across those transients by taking the mean.\n",
    "5. Run eddy current correction using the appropriate reference.\n",
    "6. In this data an additional FID point is collected before the echo centre. Remove this.\n",
    "7. Run HLSVD on the data to remove the residual water in the water suppressed data.\n",
    "6. Phase the data by a single peak as a crude zero-order phase correction."
   ]
  },
  {
   "cell_type": "code",
   "execution_count": null,
   "metadata": {},
   "outputs": [],
   "source": [
    "import fsl_mrs.utils.mrs_io as mrs_io"
   ]
  },
  {
   "cell_type": "markdown",
   "metadata": {},
   "source": [
    "#### 0. Load data\n",
    "Load all the data into lists of data using the mrs_io.read_FID function"
   ]
  },
  {
   "cell_type": "code",
   "execution_count": null,
   "metadata": {},
   "outputs": [],
   "source": [
    "# Load the raw metabolite data\n",
    "supp_data = mrs_io.read_FID('data/steam_metab_raw.nii.gz')\n",
    "print(f'Loaded water supressed data with shape {supp_data.shape} and dimensions {supp_data.dim_tags}.')\n",
    "\n",
    "# Load water ref with eddy currents (for coil combination)\n",
    "ref_data = mrs_io.read_FID('data/steam_wref_comb_raw.nii.gz')\n",
    "print(f'Loaded unsupressed data with shape {ref_data.shape} and dimensions {ref_data.dim_tags}.')\n",
    "\n",
    "# Load water ref without eddy currents (for quantification)\n",
    "quant_data = mrs_io.read_FID('data/steam_wref_quant_raw.nii.gz')\n",
    "print(f'Loaded unsupressed data with shape {quant_data.shape} and dimensions {quant_data.dim_tags}.')\n",
    "\n",
    "# Load phasecor scan (for Eddy)\n",
    "ecc_data = mrs_io.read_FID('data/steam_ecc_raw.nii.gz')\n",
    "print(f'Loaded unsupressed data with shape {ecc_data.shape} and dimensions {ecc_data.dim_tags}.')\n"
   ]
  },
  {
   "cell_type": "markdown",
   "metadata": {},
   "source": [
    "#### 1. Take averages of reference data for coil combination\n",
    "Each water reference scan cointained two averages. Calculate the average for use as a coil combination reference."
   ]
  },
  {
   "cell_type": "code",
   "execution_count": null,
   "metadata": {},
   "outputs": [],
   "source": [
    "from fsl_mrs.utils.preproc import nifti_mrs_proc as proc\n",
    "\n",
    "avg_ref_data = proc.average(ref_data, 'DIM_DYN', figure=True)"
   ]
  },
  {
   "cell_type": "markdown",
   "metadata": {},
   "source": [
    "#### 2. Coil combination\n",
    "Coil combine the metab data, the ecc data and the quantification data using the \"comb\" data as the reference."
   ]
  },
  {
   "cell_type": "code",
   "execution_count": null,
   "metadata": {},
   "outputs": [],
   "source": [
    "supp_data = proc.coilcombine(supp_data, reference=avg_ref_data, figure=True)\n",
    "quant_data = proc.coilcombine(quant_data, reference=avg_ref_data)\n",
    "ecc_data = proc.coilcombine(ecc_data, reference=avg_ref_data)\n"
   ]
  },
  {
   "cell_type": "markdown",
   "metadata": {},
   "source": [
    "#### Additional step to give resonable display phase for metabolites\n",
    "Phase using single peak (Cr at 3.03 ppm)"
   ]
  },
  {
   "cell_type": "code",
   "execution_count": null,
   "metadata": {},
   "outputs": [],
   "source": [
    "supp_data = proc.apply_fixed_phase(supp_data, 180.0, figure=True)\n",
    "quant_data = proc.apply_fixed_phase(quant_data, 180.0)\n",
    "ecc_data = proc.apply_fixed_phase(ecc_data, 180.0)\n"
   ]
  },
  {
   "cell_type": "markdown",
   "metadata": {},
   "source": [
    "#### 3. Phase and freq alignment\n",
    "Phase and frequency align the data where there are multiple transients."
   ]
  },
  {
   "cell_type": "code",
   "execution_count": null,
   "metadata": {},
   "outputs": [],
   "source": [
    "supp_data = proc.align(supp_data, 'DIM_DYN', ppmlim=(0, 4.2), figure=True)\n",
    "# Alignment for water scans\n",
    "quant_data = proc.align(quant_data, 'DIM_DYN', ppmlim=(0, 8))"
   ]
  },
  {
   "cell_type": "markdown",
   "metadata": {},
   "source": [
    "#### 4. Combine scans\n",
    "Combine data across transients by taking the mean."
   ]
  },
  {
   "cell_type": "code",
   "execution_count": null,
   "metadata": {},
   "outputs": [],
   "source": [
    "supp_data = proc.average(supp_data, 'DIM_DYN', figure=True)\n",
    "quant_data = proc.average(quant_data, 'DIM_DYN')"
   ]
  },
  {
   "cell_type": "markdown",
   "metadata": {},
   "source": [
    "#### 5. ECC\n",
    "Run eddy current correction using the appropriate reference."
   ]
  },
  {
   "cell_type": "code",
   "execution_count": null,
   "metadata": {},
   "outputs": [],
   "source": [
    "supp_data = proc.ecc(supp_data, ecc_data, figure=True)\n",
    "quant_data = proc.ecc(quant_data, quant_data)"
   ]
  },
  {
   "cell_type": "markdown",
   "metadata": {},
   "source": [
    "#### 6. Truncation\n",
    "In this data an additional FID point is collected before the echo centre. Remove this point."
   ]
  },
  {
   "cell_type": "code",
   "execution_count": null,
   "metadata": {},
   "outputs": [],
   "source": [
    "supp_data = proc.truncate_or_pad(supp_data, -1, 'first', figure=True)\n",
    "quant_data = proc.truncate_or_pad(quant_data, -1, 'first')"
   ]
  },
  {
   "cell_type": "markdown",
   "metadata": {},
   "source": [
    "#### 7. Remove residual water\n",
    "Run HLSVD on the data to remove the residual water in the water suppressed data."
   ]
  },
  {
   "cell_type": "code",
   "execution_count": null,
   "metadata": {},
   "outputs": [],
   "source": [
    "limits = [-0.15,0.15]\n",
    "limunits = 'ppm'\n",
    "\n",
    "supp_data = proc.remove_peaks(supp_data, limits, limit_units=limunits, figure=True)"
   ]
  },
  {
   "cell_type": "markdown",
   "metadata": {},
   "source": [
    "#### 8. Shift to reference\n",
    "Ensure peaks appear at correct frequencies after alignment and ecc."
   ]
  },
  {
   "cell_type": "code",
   "execution_count": null,
   "metadata": {},
   "outputs": [],
   "source": [
    "supp_data = proc.shift_to_reference(supp_data, 3.027, (2.9, 3.1), figure=True)"
   ]
  },
  {
   "cell_type": "markdown",
   "metadata": {},
   "source": [
    "#### 9. Phasing\n",
    "Phase the data by a single peak as a basic zero-order phase correction."
   ]
  },
  {
   "cell_type": "code",
   "execution_count": null,
   "metadata": {},
   "outputs": [],
   "source": [
    "final_data = proc.phase_correct(supp_data, (2.9, 3.1), figure=True)\n",
    "final_wref = proc.phase_correct(quant_data, (4.55, 4.7), hlsvd=False, figure=True)"
   ]
  },
  {
   "cell_type": "markdown",
   "metadata": {},
   "source": [
    "## 3. Fitting\n",
    "### Load into MRS objects\n",
    "\n",
    "\n",
    " - Read pre-baked basis file (this one was generated with `fsl_mrs_sim`). \n",
    " - Create main MRS object.\n",
    " - Prepare the data for fitting (this does additional checks such as whether the data needs to be conjugated, and scales the data to improve fitting robustness)\n",
    " "
   ]
  },
  {
   "cell_type": "code",
   "execution_count": null,
   "metadata": {},
   "outputs": [],
   "source": [
    "import matplotlib.pyplot as plt\n",
    "\n",
    "# Create main MRS Object \n",
    "mrs = final_data.mrs(basis_file='example_data/steam_11ms',                     \n",
    "                     ref_data=final_wref)\n",
    "mrs.processForFitting()\n",
    "\n",
    "# Quick plots of the Metab and Water spectra\n",
    "mrs.plot()\n",
    "plt.show()\n",
    "mrs.plot_ref()\n",
    "plt.show()\n",
    "plt.figure(figsize=(10,10))\n",
    "mrs.plot_basis()\n",
    "plt.show()\n"
   ]
  },
  {
   "cell_type": "markdown",
   "metadata": {},
   "source": [
    "### Fitting\n",
    "\n",
    "Here we show a typical model fitting and some of the parameters that can be user-set.\n"
   ]
  },
  {
   "cell_type": "code",
   "execution_count": null,
   "metadata": {},
   "outputs": [],
   "source": [
    "from fsl_mrs.utils import fitting, misc, plotting\n",
    "\n",
    "# Separate macromolecule from the rest (it will have its own lineshape parameters)\n",
    "metab_groups = misc.parse_metab_groups(mrs,'Mac')\n",
    "\n",
    "# Fit with Newton algorithm\n",
    "Fitargs = {'ppmlim':[0.2,4.2],\n",
    "           'method':'Newton','baseline_order':4,\n",
    "           'metab_groups':metab_groups,\n",
    "           'model':'voigt'}\n",
    "\n",
    "res = fitting.fit_FSLModel(mrs,**Fitargs)\n",
    "\n",
    "# Quick sanity-plot of the fit (see further down for interactive plotting)\n",
    "_ = plotting.plot_fit(mrs,pred=res.pred,baseline=res.baseline)"
   ]
  },
  {
   "cell_type": "markdown",
   "metadata": {},
   "source": [
    "### Quantification\n",
    "Internal and water referencing.  \n",
    "Output is a pandas series."
   ]
  },
  {
   "cell_type": "code",
   "execution_count": null,
   "metadata": {},
   "outputs": [],
   "source": [
    "import pandas as pd\n",
    "from fsl_mrs.utils import quantify\n",
    "\n",
    "combinationList = [['NAA','NAAG'],\n",
    "                   ['Glu','Gln'],\n",
    "                   ['GPC','PCh'],\n",
    "                   ['Cr','PCr'],\n",
    "                   ['Glc','Tau']]\n",
    "\n",
    "res.combine(combinationList)\n",
    "\n",
    "te = final_data.hdr_ext['EchoTime']\n",
    "tr = final_data.hdr_ext['RepetitionTime']\n",
    "q_info = quantify.QuantificationInfo(te,\n",
    "                                     tr,\n",
    "                                     mrs.names,\n",
    "                                     mrs.centralFrequency / 1E6)\n",
    "q_info.set_fractions({'WM':0.45,'GM':0.45,'CSF':0.1})\n",
    " \n",
    "res.calculateConcScaling(mrs,\n",
    "                         quant_info=q_info,\n",
    "                         internal_reference=['Cr', 'PCr'])\n",
    "\n",
    "internal = res.getConc(scaling='internal',function=None).mean().multiply(8)\n",
    "molarity = res.getConc(scaling='molarity',function=None).mean()\n",
    "print(pd.concat([internal.rename('/Cr+PCr',inplace=True), molarity.rename('molarity (mM)',inplace=True)], axis=1))"
   ]
  },
  {
   "cell_type": "markdown",
   "metadata": {},
   "source": [
    "## 4. Display\n",
    "\n",
    "Results can be displayed with various plotting functions or rendered into an interactive HTML. \n",
    "\n",
    "### In notebook"
   ]
  },
  {
   "cell_type": "code",
   "execution_count": null,
   "metadata": {},
   "outputs": [],
   "source": [
    "fig = plotting.plotly_fit(mrs,res)\n",
    "fig.show()\n"
   ]
  },
  {
   "cell_type": "markdown",
   "metadata": {},
   "source": [
    "### HTML report"
   ]
  },
  {
   "cell_type": "code",
   "execution_count": null,
   "metadata": {},
   "outputs": [],
   "source": [
    "from fsl_mrs.utils import report\n",
    "import os\n",
    "import datetime\n",
    "output = '.'\n",
    "\n",
    "report.create_report(mrs,res,\n",
    "                     filename=os.path.join(output,'report.html'),\n",
    "                     fidfile='meas_MID310_STEAM_metab_FID115673.dat',\n",
    "                     basisfile='example_data/steam_11ms',\n",
    "                     h2ofile='meas_MID311_STEAM_wref1_FID115674.dat',\n",
    "                     date=datetime.datetime.now().strftime(\"%Y-%m-%d %H:%M\"))\n",
    "\n",
    "import webbrowser\n",
    "current_path = os.getcwd()\n",
    "# generate a URL\n",
    "url = os.path.join('file:///'+current_path,'report.html')\n",
    "webbrowser.open(url)"
   ]
  }
 ],
 "metadata": {
  "kernelspec": {
   "display_name": "Python 3 (ipykernel)",
   "language": "python",
   "name": "python3"
  },
  "language_info": {
   "codemirror_mode": {
    "name": "ipython",
    "version": 3
   },
   "file_extension": ".py",
   "mimetype": "text/x-python",
   "name": "python",
   "nbconvert_exporter": "python",
   "pygments_lexer": "ipython3",
   "version": "3.8.9"
  }
 },
 "nbformat": 4,
 "nbformat_minor": 4
}
