{
 "cells": [
  {
   "cell_type": "markdown",
   "metadata": {
    "collapsed": true,
    "pycharm": {
     "name": "#%% md\n"
    }
   },
   "source": [
    "# Shape Space\n",
    "\n",
    "A key component in the analysis of shape collections is the notion of a shape space, i.e. a space in which every point corresponds to a particular shape.\n",
    "We will follow a deformation-based approach where a common deformable template encodes the typicality of the object class under study.\n",
    "The shape variability in turn is encoded by deformations of the template (referred to as reference shape in the following).\n",
    "\n",
    "## Discrete representation\n",
    "\n",
    "To obtain a computational model, we require a digital representation of shapes and variations thereof.\n",
    "To this end, we employ triangular surface meshes for which we provide the `Surface` class.\n",
    "A surface mesh is specified by a pair of matrices:\n",
    "\n",
    "$v = \\begin{bmatrix} x_0 & y_0 & z_0 \\\\ x_1 & y_1 & z_1 \\\\ & \\vdots & \\end{bmatrix} \\in \\mathbb{R}^{n \\times 3}\n",
    "\\text{ and }\n",
    "f = \\begin{bmatrix} i_0 & j_0 & k_0 \\\\ i_1 & j_1 & k_1 \\\\ & \\vdots & \\end{bmatrix} \\in \\mathbb{R}^{m \\times 3},$\n",
    "\n",
    "where $v$ holds the coordinates of $n$ vertices and $f$ lists which vertices (i.e. indices thereof w.r.t. $v$) form each of $m$ triangles.\n",
    "For example, we can create a tetrahedron like this:"
   ]
  },
  {
   "cell_type": "code",
   "execution_count": null,
   "metadata": {
    "pycharm": {
     "name": "#%%\n"
    }
   },
   "outputs": [],
   "source": [
    "import numpy as np\n",
    "from morphomatics.geom import Surface\n",
    "\n",
    "# 4 vertices\n",
    "v = np.array([\n",
    "    [0.57735, 0.57735, 0.57735],\n",
    "    [-0.57735, 0.57735, -0.57735],\n",
    "    [-0.57735, -0.57735, 0.57735],\n",
    "    [0.57735, -0.57735, -0.57735]\n",
    "])\n",
    "\n",
    "# 4 triangles\n",
    "# note: by sharing vertices (each is referenced 3 times), triangles are 'glued' together\n",
    "f = np.array([\n",
    "    [0, 3, 1],\n",
    "    [1, 3, 2],\n",
    "    [1, 2, 0],\n",
    "    [0, 2, 3]\n",
    "])\n",
    "\n",
    "S = Surface(v, f)\n",
    "\n",
    "# compute area of surface\n",
    "S.face_areas.sum()"
   ]
  },
  {
   "cell_type": "markdown",
   "metadata": {
    "pycharm": {
     "name": "#%% md\n"
    }
   },
   "source": [
    "In order to encode deformations, hence shape variations, we focus on simplicial maps, i.e. deformations that map triangles onto triangles and are entirely determined by the images of the vertices.\n",
    "Given a triangulated reference shape $(\\bar{v}, \\bar{f})$, each surface in a collection can be represented by a mesh with same connectivity $f_i \\equiv \\bar{f}$ and mapped vertices $v_i = \\phi_i(\\bar{v})$.\n",
    "The task of determining the $\\phi_i$ is known as correspondence problem.\n",
    "There is a multitude of approaches to establish correspondence ranging from fully automatic to expert guided ones.\n",
    "The best choice is typically application dependent and we assume that this step has been carried out during pre-process.\n",
    "\n",
    "\n",
    "## Geometric structure\n",
    "\n",
    "Codifying shapes as simplicial deformations allows to interpret them as elements in the space of vertex coordinates $\\mathbb{R}^{n \\times 3}$.\n",
    "This configuration space not only encodes the geometric form of objects but also their scale, position and orientation within the 3D space they are embedded in.\n",
    "\n",
    "We can endow this space with a rich geometric structure by equipping it with a non-trivial metric that quantifies shape (dis)similarity.\n",
    "Ideally, for shape spaces we require the metric to be invariant under rotations and translations.\n",
    "We can further adopt a physically-based perspective and design the metric to favor natural deformations promising an improved consistency and compact encoding of constraints.\n",
    "\n",
    "The different approaches available within morphomatics are sub-classes of `ShapeSpace` (in `morphomatics.manifold.ShapeSpae`).\n",
    "The available shape spaces are:\n",
    "\n",
    "* __Point distribution model__ (see `morphomatics.manifold.PointDistributionModel`)\n",
    "    A linearized, i.e. Euclidean, shape space mainly for comparison purposes.\n",
    "    Rotational and translational effects are reduced via Procrustes alignment to the reference shape.\n",
    "\n",
    "* __Differential coordinates model__ (see `morphomatics.manifold.DifferentialCoords`)\n",
    "    A Riemannian shape space that is able to account for the nonlinearity in shape variation by employing a differential representation that puts the local geometric variability into focus.\n",
    "    The differential coordinates are endowed with a Lie group structure that comes with both:\n",
    "    Excellent theoretical properties and closed-form expressions yielding simple and efficient algorithms.\n",
    "    While translation invariant, rotational effects are reduced via Procrustes alignment to the reference shape.\n",
    "\n",
    "* __Fundamental coordinates model__ (see `morphomatics.manifold.FundamentalCoords`)\n",
    "   A surface-theoretic approach that is invariant under Euclidean motion and thus alignment-free.\n",
    "   The rich structure of the derived shape space assures valid shape instances even in presence of strong nonlinear variability.\n",
    "   The representation builds upon metric distortion and curvature of shapes as elements of Lie groups that allow for closed-form evaluation of Riemannian operations.\n",
    "\n",
    "Besides a metric, the spaces can be equipped with a connection that provides a notion of parallelism and straightest paths.\n",
    "Given a starting point and a direction, a connection allows walking along shape space - a function known as exponential map.\n",
    "\n",
    "Shape spaces (and more generally manifolds) may be set up with different metrics and connections realized as sub-classes of `Metric` and `Connection` in `morphomatics.manifold`, respectively.\n",
    "\n",
    "## Geodesic calculus\n",
    "\n",
    "Due to the inherent non-linearity, calculus in non-Euclidean shape spaces can be computationally challenging.\n",
    "Remarkably, the shape spaces provided here offer fast and numerically robust processing.\n",
    "For example, computing geodesic distances or exponential/logarithmic maps does not require iterative approximation schemes."
   ]
  },
  {
   "cell_type": "code",
   "execution_count": null,
   "metadata": {
    "pycharm": {
     "name": "#%%\n"
    }
   },
   "outputs": [],
   "source": [
    "import pyvista as pv\n",
    "from morphomatics.manifold import FundamentalCoords, PointDistributionModel, DifferentialCoords, util\n",
    "\n",
    "# Read example data\n",
    "\n",
    "mesh_straight = pv.read('./tutorial2_pop_med_image_shape_ana/data/straight.obj')\n",
    "mesh_helix = pv.read('./tutorial2_pop_med_image_shape_ana/data/helix.obj')\n",
    "\n",
    "as_surface = lambda mesh: Surface(mesh.points, mesh.faces.reshape(-1, 4)[:, 1:])\n",
    "S_straight = as_surface(mesh_straight)\n",
    "S_helix = as_surface(mesh_helix)\n",
    "\n",
    "# Construct shape space\n",
    "M = FundamentalCoords(S_straight)\n",
    "\n",
    "# map surfaces to shape space coordinates\n",
    "c_straight = M.to_coords(S_straight.v)\n",
    "c_helix = M.to_coords(S_helix.v)\n",
    "\n",
    "# perform computations, e.g. ...\n",
    "\n",
    "# ... compute distance\n",
    "print('distance: ', M.metric.dist(c_straight, c_helix))\n",
    "\n",
    "# ... interpolate surfaces (mid-point on geodesic)\n",
    "diff = M.connec.log(c_straight, c_helix)\n",
    "mean = M.connec.exp(c_straight, 0.5*diff)\n",
    "\n",
    "# get vertex coordinates of mean\n",
    "v = M.from_coords(mean)\n",
    "\n",
    "# visualize\n",
    "pv.set_plot_theme('document')\n",
    "pl = pv.Plotter(notebook=True)\n",
    "import matplotlib.pyplot as plt\n",
    "cmap = plt.cm.get_cmap(\"plasma\")\n",
    "for t in np.linspace(0,1,5):\n",
    "     # compute interpolating shape\n",
    "     v = M.from_coords(M.connec.exp(c_straight, t*diff))\n",
    "     # align and move upwards\n",
    "     v = util.align(v, S_straight.v) + t*np.array([0.,0.,10.])\n",
    "     # add to plot\n",
    "     pl.add_mesh(pv.PolyData(v, mesh_straight.faces), scalars=np.full_like(v[:,0], t), cmap=cmap, smooth_shading=True)\n",
    "pl.view_zx()\n",
    "pl.show(jupyter_backend='static')\n",
    "\n"
   ]
  },
  {
   "cell_type": "code",
   "execution_count": null,
   "metadata": {
    "pycharm": {
     "is_executing": true,
     "name": "#%%\n"
    },
    "scrolled": true
   },
   "outputs": [],
   "source": [
    "\"\"\" Client-side rendering with `ipygany` and `ipywidgets` for interaction. \"\"\"\n",
    "\n",
    "from ipywidgets import interact\n",
    "\n",
    "# create viewer\n",
    "pv.set_plot_theme('document')\n",
    "pv.global_theme.color = '#008c04'\n",
    "\n",
    "pl = pv.Plotter(notebook=True)\n",
    "mesh = pv.PolyData(v, np.c_[np.full(len(S_straight.f), 3), S_straight.f])\n",
    "pl.add_mesh(mesh)\n",
    "\n",
    "# adjust camera\n",
    "pl.view_xy()\n",
    "# tuple: camera location, focus point, viewup vector\n",
    "cPos = [list(i) for i in pl.camera_position]\n",
    "cPos[0][2] = 10\n",
    "pl.camera_position = cPos \n",
    "\n",
    "viewer = pl.show(jupyter_backend='ipygany', return_viewer=True, full_screen=True)\n",
    "\n",
    "@interact\n",
    "def plot(t=(0,1,.01)):\n",
    "    # interpolate: walk along connecting geodesic\n",
    "    v = M.from_coords(M.connec.exp(c_straight, t*diff))\n",
    "    viewer.children[0].vertices = v\n",
    "\n",
    "viewer\n"
   ]
  },
  {
   "cell_type": "code",
   "execution_count": null,
   "metadata": {},
   "outputs": [],
   "source": []
  }
 ],
 "metadata": {
  "kernelspec": {
   "display_name": "Python 3 (ipykernel)",
   "language": "python",
   "name": "python3"
  },
  "language_info": {
   "codemirror_mode": {
    "name": "ipython",
    "version": 3
   },
   "file_extension": ".py",
   "mimetype": "text/x-python",
   "name": "python",
   "nbconvert_exporter": "python",
   "pygments_lexer": "ipython3",
   "version": "3.9.7"
  }
 },
 "nbformat": 4,
 "nbformat_minor": 1
}
