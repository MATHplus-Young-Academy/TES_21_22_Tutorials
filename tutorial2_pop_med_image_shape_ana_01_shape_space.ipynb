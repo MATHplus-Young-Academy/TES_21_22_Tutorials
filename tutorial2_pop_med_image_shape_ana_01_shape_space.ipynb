{
 "cells": [
  {
   "cell_type": "markdown",
   "metadata": {
    "collapsed": true,
    "pycharm": {
     "name": "#%% md\n"
    }
   },
   "source": [
    "# Shape Space\n",
    "\n",
    "A key component in the analysis of shape collections is the notion of a shape space, i.e. a space in which every point corresponds to a particular shape.\n",
    "We will follow a deformation-based approach where a common deformable template encodes the typicality of the object class under study.\n",
    "The shape variability in turn is encoded by deformations of the template (referred to as reference shape in the following).\n",
    "\n",
    "## Discrete representation\n",
    "\n",
    "To obtain a computational model, we require a digital representation of shapes and variations thereof.\n",
    "To this end, we employ triangular surface meshes for which we provide the `Surface` class.\n",
    "A surface mesh is specified by a pair of matrices:\n",
    "\n",
    "$v = \\begin{bmatrix} x_0 & y_0 & z_0 \\\\ x_1 & y_1 & z_1 \\\\ & \\vdots & \\end{bmatrix} \\in \\mathbb{R}^{n \\times 3}\n",
    "\\text{ and }\n",
    "f = \\begin{bmatrix} i_0 & j_0 & k_0 \\\\ i_1 & j_1 & k_1 \\\\ & \\vdots & \\end{bmatrix} \\in \\mathbb{R}^{m \\times 3},$\n",
    "\n",
    "where $v$ holds the coordinates of $n$ vertices and $f$ lists which vertices (i.e. indices thereof w.r.t. $v$) form each of $m$ triangles.\n",
    "For example, we can create a tetrahedron like this:"
   ]
  },
  {
   "cell_type": "code",
   "execution_count": null,
   "metadata": {
    "pycharm": {
     "name": "#%%\n"
    }
   },
   "outputs": [],
   "source": [
    "import numpy as np\n",
    "import pyvista as pv\n",
    "from morphomatics.geom import Surface\n",
    "\n",
    "# 4 vertices\n",
    "v = np.array([\n",
    "    [0.57735, 0.57735, 0.57735],\n",
    "    [-0.57735, 0.57735, -0.57735],\n",
    "    [-0.57735, -0.57735, 0.57735],\n",
    "    [0.57735, -0.57735, -0.57735]\n",
    "])\n",
    "\n",
    "# 4 triangles\n",
    "# note: by sharing vertices (each is referenced 3 times), triangles are 'glued' together\n",
    "f = np.array([\n",
    "    [0, 3, 1],\n",
    "    [1, 3, 2],\n",
    "    [1, 2, 0],\n",
    "    [0, 2, 3]\n",
    "])\n",
    "\n",
    "S = Surface(v, f)\n",
    "\n",
    "# compute area of surface\n",
    "S.face_areas.sum()\n",
    "\n",
    "# plot the tetrahedron\n",
    "pl = pv.Plotter(notebook=True)\n",
    "pl.add_mesh(pv.PolyData(S.v, np.c_[np.full(len(S.f), 3), S.f]))\n",
    "pl.show(jupyter_backend='ipygany')"
   ]
  },
  {
   "cell_type": "markdown",
   "metadata": {
    "pycharm": {
     "name": "#%% md\n"
    }
   },
   "source": [
    "In order to encode deformations, hence shape variations, we focus on simplicial maps, i.e. deformations that map triangles onto triangles and are entirely determined by the images of the vertices.\n",
    "Given a triangulated reference shape $(\\bar{v}, \\bar{f})$, each surface in a collection can be represented by a mesh with same connectivity $f_i \\equiv \\bar{f}$ and mapped vertices $v_i = \\phi_i(\\bar{v})$.\n",
    "\n",
    "## Shape Representation\n",
    "\n",
    "In the theoretical part of this tutorial we learned about two different representations:\n",
    "\n",
    "* __Point distribution model__ (see `morphomatics.manifold.PointDistributionModel`)\n",
    "    A linearized, i.e. Euclidean, shape space mainly for comparison purposes.\n",
    "    Rotational and translational effects are reduced via Procrustes alignment to the reference shape.\n",
    "\n",
    "\n",
    "* __Fundamental coordinates model__ (see `morphomatics.manifold.FundamentalCoords`)\n",
    "   A surface-theoretic approach that is invariant under Euclidean motion and thus alignment-free.\n",
    "   The rich structure of the derived shape space assures valid shape instances even in presence of strong nonlinear variability.\n",
    "   The representation builds upon metric distortion and curvature of shapes as elements of Lie groups that allow for closed-form evaluation of Riemannian operations.\n",
    "\n",
    "Both implementations share a common ancestor `ShapeSpace` (in `morphomatics.manifold.ShapeSpae`).\n",
    "\n",
    "## Task 1 on Geodesic interpolation\n",
    "Choose different shape spaces (FundamentalCoords, PointDistributionModel).\n",
    "- What can you say about the difference between FCM and PDM, regarding shape interpolation?\n",
    "\n",
    "Choose different values for `nInterpol`.\n",
    "- What is your impression?"
   ]
  },
  {
   "cell_type": "code",
   "execution_count": null,
   "metadata": {
    "pycharm": {
     "name": "#%%\n"
    }
   },
   "outputs": [],
   "source": [
    "nInterpol=5 # e.g. 5, 10, 20\n",
    "\n",
    "from morphomatics.manifold import FundamentalCoords, PointDistributionModel, util\n",
    "\n",
    "# Read example data\n",
    "\n",
    "mesh_straight = pv.read('./tutorial2_pop_med_image_shape_ana/data/straight.obj')\n",
    "mesh_helix = pv.read('./tutorial2_pop_med_image_shape_ana/data/helix.obj')\n",
    "\n",
    "as_surface = lambda mesh: Surface(mesh.points, mesh.faces.reshape(-1, 4)[:, 1:])\n",
    "S_straight = as_surface(mesh_straight)\n",
    "S_helix = as_surface(mesh_helix)\n",
    "\n",
    "# Construct shape space\n",
    "M = FundamentalCoords(S_straight) # Replace with PointDistributionModel\n",
    "\n",
    "# map surfaces to shape space coordinates\n",
    "c_straight = M.to_coords(S_straight.v)\n",
    "c_helix = M.to_coords(S_helix.v)\n",
    "\n",
    "# perform computations, e.g. ...\n",
    "\n",
    "# ... compute distance\n",
    "print('distance: ', M.metric.dist(c_straight, c_helix))\n",
    "\n",
    "# ... interpolate surfaces (mid-point on geodesic)\n",
    "diff = M.connec.log(c_straight, c_helix)\n",
    "mean = M.connec.exp(c_straight, 0.5*diff)\n",
    "\n",
    "\n",
    "# visualize\n",
    "pv.set_plot_theme('document')\n",
    "pl = pv.Plotter(notebook=True)\n",
    "import matplotlib.pyplot as plt\n",
    "cmap = plt.cm.get_cmap(\"plasma\")\n",
    "v = S_straight.v # align to this for visualization\n",
    "for t in np.linspace(0,1,nInterpol):\n",
    "     # compute interpolating shape\n",
    "     v_ = M.from_coords(M.connec.exp(c_straight, t*diff))\n",
    "     # align and move upwards\n",
    "     v = util.align(v_, v) + np.array([0.,0.,10/nInterpol])\n",
    "     # add to plot\n",
    "     pl.add_mesh(pv.PolyData(v, mesh_straight.faces), scalars=np.full_like(v[:,0], t), cmap=cmap, smooth_shading=True)\n",
    "pl.view_zx()\n",
    "pl.show(jupyter_backend='static')\n",
    "\n"
   ]
  },
  {
   "cell_type": "markdown",
   "metadata": {},
   "source": [
    "Choose different values for `a` and `b` that specify the slider domain in the cell below.\n",
    "- What is your impression in the case of extrapolation, i.e. `a < 0` and/or `b > 1`?\n"
   ]
  },
  {
   "cell_type": "code",
   "execution_count": null,
   "metadata": {
    "pycharm": {
     "name": "#%%\n"
    },
    "scrolled": false
   },
   "outputs": [],
   "source": [
    "[a, b] = [0, 1] \n",
    "\n",
    "\n",
    "\"\"\" Client-side rendering with `ipygany` and `ipywidgets` for interaction. \"\"\"\n",
    "\n",
    "from ipywidgets import interact\n",
    "\n",
    "# create viewer\n",
    "pv.set_plot_theme('document')\n",
    "pv.global_theme.color = '#008c04'\n",
    "\n",
    "# setup plotter with mean shape\n",
    "pl = pv.Plotter(notebook=True)\n",
    "v = M.from_coords(M.connec.exp(c_straight, .5*diff))\n",
    "mesh = pv.PolyData(v, np.c_[np.full(len(S_straight.f), 3), S_straight.f])\n",
    "pl.add_mesh(mesh)\n",
    "\n",
    "# adjust camera\n",
    "pl.view_xy()\n",
    "\n",
    "viewer = pl.show(jupyter_backend='ipygany', return_viewer=True, full_screen=True)\n",
    "\n",
    "@interact\n",
    "def plot(t=(a,b,.05)):\n",
    "    # interpolate: walk along connecting geodesic\n",
    "    v = M.from_coords(M.connec.exp(c_straight, t*diff))\n",
    "    viewer.children[0].vertices = v\n",
    "\n",
    "    \n",
    "viewer\n"
   ]
  },
  {
   "cell_type": "code",
   "execution_count": null,
   "metadata": {},
   "outputs": [],
   "source": []
  }
 ],
 "metadata": {
  "kernelspec": {
   "display_name": "Python 3 (ipykernel)",
   "language": "python",
   "name": "python3"
  },
  "language_info": {
   "codemirror_mode": {
    "name": "ipython",
    "version": 3
   },
   "file_extension": ".py",
   "mimetype": "text/x-python",
   "name": "python",
   "nbconvert_exporter": "python",
   "pygments_lexer": "ipython3",
   "version": "3.9.7"
  }
 },
 "nbformat": 4,
 "nbformat_minor": 1
}